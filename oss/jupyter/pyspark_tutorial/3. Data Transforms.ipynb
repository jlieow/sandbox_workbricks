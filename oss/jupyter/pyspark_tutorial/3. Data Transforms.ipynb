{
 "cells": [
  {
   "cell_type": "code",
   "execution_count": 52,
   "id": "f86003f8-ec1c-44c8-85ef-fd0c8ce38885",
   "metadata": {},
   "outputs": [
    {
     "name": "stdout",
     "output_type": "stream",
     "text": [
      "+---------------+-----------+----------------+---------------+--------------------+--------+-----------------+-------------------------+-----------+--------------------+-----------------+-----------------+\n",
      "|Item_Identifier|Item_Weight|Item_Fat_Content|Item_Visibility|           Item_Type|Item_MRP|Outlet_Identifier|Outlet_Establishment_Year|Outlet_Size|Outlet_Location_Type|      Outlet_Type|Item_Outlet_Sales|\n",
      "+---------------+-----------+----------------+---------------+--------------------+--------+-----------------+-------------------------+-----------+--------------------+-----------------+-----------------+\n",
      "|          FDA15|        9.3|         Low Fat|    0.016047301|               Dairy|249.8092|           OUT049|                     1999|     Medium|              Tier 1|Supermarket Type1|         3735.138|\n",
      "|          DRC01|       5.92|         Regular|    0.019278216|         Soft Drinks| 48.2692|           OUT018|                     2009|     Medium|              Tier 3|Supermarket Type2|         443.4228|\n",
      "|          FDN15|       17.5|         Low Fat|    0.016760075|                Meat| 141.618|           OUT049|                     1999|     Medium|              Tier 1|Supermarket Type1|          2097.27|\n",
      "|          FDX07|       19.2|         Regular|            0.0|Fruits and Vegeta...| 182.095|           OUT010|                     1998|       NULL|              Tier 3|    Grocery Store|           732.38|\n",
      "|          NCD19|       8.93|         Low Fat|            0.0|           Household| 53.8614|           OUT013|                     1987|       High|              Tier 3|Supermarket Type1|         994.7052|\n",
      "|          FDP36|     10.395|         Regular|            0.0|        Baking Goods| 51.4008|           OUT018|                     2009|     Medium|              Tier 3|Supermarket Type2|         556.6088|\n",
      "|          FDO10|      13.65|         Regular|    0.012741089|         Snack Foods| 57.6588|           OUT013|                     1987|       High|              Tier 3|Supermarket Type1|         343.5528|\n",
      "|          FDP10|       NULL|         Low Fat|    0.127469857|         Snack Foods|107.7622|           OUT027|                     1985|     Medium|              Tier 3|Supermarket Type3|        4022.7636|\n",
      "|          FDH17|       16.2|         Regular|    0.016687114|        Frozen Foods| 96.9726|           OUT045|                     2002|       NULL|              Tier 2|Supermarket Type1|        1076.5986|\n",
      "|          FDU28|       19.2|         Regular|     0.09444959|        Frozen Foods|187.8214|           OUT017|                     2007|       NULL|              Tier 2|Supermarket Type1|         4710.535|\n",
      "|          FDY07|       11.8|         Low Fat|            0.0|Fruits and Vegeta...| 45.5402|           OUT049|                     1999|     Medium|              Tier 1|Supermarket Type1|        1516.0266|\n",
      "|          FDA03|       18.5|         Regular|    0.045463773|               Dairy|144.1102|           OUT046|                     1997|      Small|              Tier 1|Supermarket Type1|         2187.153|\n",
      "|          FDX32|       15.1|         Regular|      0.1000135|Fruits and Vegeta...|145.4786|           OUT049|                     1999|     Medium|              Tier 1|Supermarket Type1|        1589.2646|\n",
      "|          FDS46|       17.6|         Regular|    0.047257328|         Snack Foods|119.6782|           OUT046|                     1997|      Small|              Tier 1|Supermarket Type1|        2145.2076|\n",
      "|          FDF32|      16.35|         Low Fat|      0.0680243|Fruits and Vegeta...|196.4426|           OUT013|                     1987|       High|              Tier 3|Supermarket Type1|         1977.426|\n",
      "|          FDP49|        9.0|         Regular|    0.069088961|           Breakfast| 56.3614|           OUT046|                     1997|      Small|              Tier 1|Supermarket Type1|        1547.3192|\n",
      "|          NCB42|       11.8|         Low Fat|    0.008596051|  Health and Hygiene|115.3492|           OUT018|                     2009|     Medium|              Tier 3|Supermarket Type2|        1621.8888|\n",
      "|          FDP49|        9.0|         Regular|    0.069196376|           Breakfast| 54.3614|           OUT049|                     1999|     Medium|              Tier 1|Supermarket Type1|         718.3982|\n",
      "|          DRI11|       NULL|         Low Fat|    0.034237682|         Hard Drinks|113.2834|           OUT027|                     1985|     Medium|              Tier 3|Supermarket Type3|         2303.668|\n",
      "|          FDU02|      13.35|         Low Fat|     0.10249212|               Dairy|230.5352|           OUT035|                     2004|      Small|              Tier 2|Supermarket Type1|        2748.4224|\n",
      "+---------------+-----------+----------------+---------------+--------------------+--------+-----------------+-------------------------+-----------+--------------------+-----------------+-----------------+\n",
      "only showing top 20 rows\n"
     ]
    }
   ],
   "source": [
    "from pyspark.sql import SparkSession\n",
    "from pyspark.sql.functions import *\n",
    "spark = SparkSession.builder.appName('Transforms').getOrCreate()\n",
    "\n",
    "df = spark.read.format('csv').option('inferSchema',True).option('header',True).load('BigMart_Sales.csv')\n",
    "df.show()"
   ]
  },
  {
   "cell_type": "code",
   "execution_count": 11,
   "id": "e4999afa-4e86-46e6-b8f7-5ae4ac35d7b0",
   "metadata": {},
   "outputs": [
    {
     "name": "stdout",
     "output_type": "stream",
     "text": [
      "+---------------+-----------+----------------+\n",
      "|Item_Identifier|Item_Weight|Item_Fat_Content|\n",
      "+---------------+-----------+----------------+\n",
      "|          FDA15|        9.3|         Low Fat|\n",
      "|          DRC01|       5.92|         Regular|\n",
      "|          FDN15|       17.5|         Low Fat|\n",
      "|          FDX07|       19.2|         Regular|\n",
      "|          NCD19|       8.93|         Low Fat|\n",
      "|          FDP36|     10.395|         Regular|\n",
      "|          FDO10|      13.65|         Regular|\n",
      "|          FDP10|       NULL|         Low Fat|\n",
      "|          FDH17|       16.2|         Regular|\n",
      "|          FDU28|       19.2|         Regular|\n",
      "|          FDY07|       11.8|         Low Fat|\n",
      "|          FDA03|       18.5|         Regular|\n",
      "|          FDX32|       15.1|         Regular|\n",
      "|          FDS46|       17.6|         Regular|\n",
      "|          FDF32|      16.35|         Low Fat|\n",
      "|          FDP49|        9.0|         Regular|\n",
      "|          NCB42|       11.8|         Low Fat|\n",
      "|          FDP49|        9.0|         Regular|\n",
      "|          DRI11|       NULL|         Low Fat|\n",
      "|          FDU02|      13.35|         Low Fat|\n",
      "+---------------+-----------+----------------+\n",
      "only showing top 20 rows\n"
     ]
    }
   ],
   "source": [
    "# SELECT\n",
    "# df.select('Item_Identifier', 'Item_Weight', 'Item_Fat_Content').show() is also valid to select specific cols\n",
    "# Best practice is to always use a col object as certain pyspark functions require a col object such as alias, aggregations, ...\n",
    "\n",
    "df.select(col('Item_Identifier'), col('Item_Weight'), col('Item_Fat_Content')).show()"
   ]
  },
  {
   "cell_type": "code",
   "execution_count": 10,
   "id": "171069da-d68a-4f39-8c3f-e89d23d9baf9",
   "metadata": {},
   "outputs": [
    {
     "name": "stdout",
     "output_type": "stream",
     "text": [
      "+-------+\n",
      "|Item_Id|\n",
      "+-------+\n",
      "|  FDA15|\n",
      "|  DRC01|\n",
      "|  FDN15|\n",
      "|  FDX07|\n",
      "|  NCD19|\n",
      "|  FDP36|\n",
      "|  FDO10|\n",
      "|  FDP10|\n",
      "|  FDH17|\n",
      "|  FDU28|\n",
      "|  FDY07|\n",
      "|  FDA03|\n",
      "|  FDX32|\n",
      "|  FDS46|\n",
      "|  FDF32|\n",
      "|  FDP49|\n",
      "|  NCB42|\n",
      "|  FDP49|\n",
      "|  DRI11|\n",
      "|  FDU02|\n",
      "+-------+\n",
      "only showing top 20 rows\n"
     ]
    }
   ],
   "source": [
    "# ALIAS\n",
    "df.select(col('Item_Identifier').alias('Item_Id')).show()"
   ]
  },
  {
   "cell_type": "code",
   "execution_count": 13,
   "id": "ca55c615-be3e-4153-a97f-8e3b2a84f8d5",
   "metadata": {},
   "outputs": [
    {
     "name": "stdout",
     "output_type": "stream",
     "text": [
      "+---------------+-----------+----------------+---------------+--------------------+--------+-----------------+-------------------------+-----------+--------------------+-----------------+-----------------+\n",
      "|Item_Identifier|Item_Weight|Item_Fat_Content|Item_Visibility|           Item_Type|Item_MRP|Outlet_Identifier|Outlet_Establishment_Year|Outlet_Size|Outlet_Location_Type|      Outlet_Type|Item_Outlet_Sales|\n",
      "+---------------+-----------+----------------+---------------+--------------------+--------+-----------------+-------------------------+-----------+--------------------+-----------------+-----------------+\n",
      "|          DRC01|       5.92|         Regular|    0.019278216|         Soft Drinks| 48.2692|           OUT018|                     2009|     Medium|              Tier 3|Supermarket Type2|         443.4228|\n",
      "|          FDX07|       19.2|         Regular|            0.0|Fruits and Vegeta...| 182.095|           OUT010|                     1998|       NULL|              Tier 3|    Grocery Store|           732.38|\n",
      "|          FDP36|     10.395|         Regular|            0.0|        Baking Goods| 51.4008|           OUT018|                     2009|     Medium|              Tier 3|Supermarket Type2|         556.6088|\n",
      "|          FDO10|      13.65|         Regular|    0.012741089|         Snack Foods| 57.6588|           OUT013|                     1987|       High|              Tier 3|Supermarket Type1|         343.5528|\n",
      "|          FDH17|       16.2|         Regular|    0.016687114|        Frozen Foods| 96.9726|           OUT045|                     2002|       NULL|              Tier 2|Supermarket Type1|        1076.5986|\n",
      "|          FDU28|       19.2|         Regular|     0.09444959|        Frozen Foods|187.8214|           OUT017|                     2007|       NULL|              Tier 2|Supermarket Type1|         4710.535|\n",
      "|          FDA03|       18.5|         Regular|    0.045463773|               Dairy|144.1102|           OUT046|                     1997|      Small|              Tier 1|Supermarket Type1|         2187.153|\n",
      "|          FDX32|       15.1|         Regular|      0.1000135|Fruits and Vegeta...|145.4786|           OUT049|                     1999|     Medium|              Tier 1|Supermarket Type1|        1589.2646|\n",
      "|          FDS46|       17.6|         Regular|    0.047257328|         Snack Foods|119.6782|           OUT046|                     1997|      Small|              Tier 1|Supermarket Type1|        2145.2076|\n",
      "|          FDP49|        9.0|         Regular|    0.069088961|           Breakfast| 56.3614|           OUT046|                     1997|      Small|              Tier 1|Supermarket Type1|        1547.3192|\n",
      "|          FDP49|        9.0|         Regular|    0.069196376|           Breakfast| 54.3614|           OUT049|                     1999|     Medium|              Tier 1|Supermarket Type1|         718.3982|\n",
      "|          FDN22|      18.85|         Regular|    0.138190277|         Snack Foods|250.8724|           OUT013|                     1987|       High|              Tier 3|Supermarket Type1|         3775.086|\n",
      "|          FDW12|       NULL|         Regular|    0.035399923|        Baking Goods|144.5444|           OUT027|                     1985|     Medium|              Tier 3|Supermarket Type3|        4064.0432|\n",
      "|          FDR28|      13.85|         Regular|    0.025896485|        Frozen Foods| 165.021|           OUT046|                     1997|      Small|              Tier 1|Supermarket Type1|         4078.025|\n",
      "|          FDV10|      7.645|         Regular|    0.066693437|         Snack Foods| 42.3112|           OUT035|                     2004|      Small|              Tier 2|Supermarket Type1|          1065.28|\n",
      "|          FDE51|      5.925|         Regular|    0.161466534|               Dairy| 45.5086|           OUT010|                     1998|       NULL|              Tier 3|    Grocery Store|         178.4344|\n",
      "|          FDC14|       NULL|         Regular|    0.072221801|              Canned| 43.6454|           OUT019|                     1985|      Small|              Tier 1|    Grocery Store|         125.8362|\n",
      "|          FDV20|       NULL|         Regular|    0.059511812|Fruits and Vegeta...|128.0678|           OUT027|                     1985|     Medium|              Tier 3|Supermarket Type3|        2797.6916|\n",
      "|          DRZ11|       8.85|         Regular|    0.113123893|         Soft Drinks|122.5388|           OUT018|                     2009|     Medium|              Tier 3|Supermarket Type2|        1609.9044|\n",
      "|          FDX10|       NULL|         Regular|    0.123111453|         Snack Foods| 36.9874|           OUT027|                     1985|     Medium|              Tier 3|Supermarket Type3|         388.1614|\n",
      "+---------------+-----------+----------------+---------------+--------------------+--------+-----------------+-------------------------+-----------+--------------------+-----------------+-----------------+\n",
      "only showing top 20 rows\n"
     ]
    }
   ],
   "source": [
    "# FILTER/WHERE\n",
    "# Scenario 1\n",
    "df.filter(col('Item_Fat_Content') == 'Regular').show()"
   ]
  },
  {
   "cell_type": "code",
   "execution_count": 15,
   "id": "e38e2474-4380-4f68-916a-53a7139e592e",
   "metadata": {},
   "outputs": [
    {
     "name": "stdout",
     "output_type": "stream",
     "text": [
      "+---------------+-----------+----------------+---------------+-----------+--------+-----------------+-------------------------+-----------+--------------------+-----------------+-----------------+\n",
      "|Item_Identifier|Item_Weight|Item_Fat_Content|Item_Visibility|  Item_Type|Item_MRP|Outlet_Identifier|Outlet_Establishment_Year|Outlet_Size|Outlet_Location_Type|      Outlet_Type|Item_Outlet_Sales|\n",
      "+---------------+-----------+----------------+---------------+-----------+--------+-----------------+-------------------------+-----------+--------------------+-----------------+-----------------+\n",
      "|          DRC01|       5.92|         Regular|    0.019278216|Soft Drinks| 48.2692|           OUT018|                     2009|     Medium|              Tier 3|Supermarket Type2|         443.4228|\n",
      "|          DRZ11|       8.85|         Regular|    0.113123893|Soft Drinks|122.5388|           OUT018|                     2009|     Medium|              Tier 3|Supermarket Type2|        1609.9044|\n",
      "|          DRF49|       7.27|         Low Fat|    0.071077939|Soft Drinks|114.2518|           OUT046|                     1997|      Small|              Tier 1|Supermarket Type1|        2618.5914|\n",
      "|          DRK12|        9.5|              LF|    0.041878397|Soft Drinks|   32.99|           OUT035|                     2004|      Small|              Tier 2|Supermarket Type1|           133.16|\n",
      "|          DRK01|       7.63|         Low Fat|     0.06105276|Soft Drinks| 95.4436|           OUT035|                     2004|      Small|              Tier 2|Supermarket Type1|         1418.154|\n",
      "|          DRF49|       7.27|         Low Fat|    0.071222087|Soft Drinks|113.5518|           OUT045|                     2002|       NULL|              Tier 2|Supermarket Type1|          569.259|\n",
      "|          DRE60|      9.395|         Low Fat|    0.159657596|Soft Drinks| 224.972|           OUT045|                     2002|       NULL|              Tier 2|Supermarket Type1|         7696.648|\n",
      "|          DRI01|       7.97|         Low Fat|    0.034452949|Soft Drinks|174.0422|           OUT046|                     1997|      Small|              Tier 1|Supermarket Type1|         2586.633|\n",
      "|          DRD37|        9.8|         Low Fat|    0.013898123|Soft Drinks|  46.506|           OUT018|                     2009|     Medium|              Tier 3|Supermarket Type2|          372.848|\n",
      "|          DRH13|      8.575|         Low Fat|    0.023983258|Soft Drinks| 106.328|           OUT018|                     2009|     Medium|              Tier 3|Supermarket Type2|          958.752|\n",
      "|          DRK37|        5.0|         Low Fat|    0.044004675|Soft Drinks| 188.853|           OUT046|                     1997|      Small|              Tier 1|Supermarket Type1|         5502.837|\n",
      "|          DRF01|      5.655|         Low Fat|    0.175352413|Soft Drinks|147.4102|           OUT049|                     1999|     Medium|              Tier 1|Supermarket Type1|        2478.7734|\n",
      "|          DRE13|       6.28|         Low Fat|    0.027699863|Soft Drinks| 87.9198|           OUT035|                     2004|      Small|              Tier 2|Supermarket Type1|        1221.0772|\n",
      "|          DRD49|      9.895|         Low Fat|    0.167799329|Soft Drinks|239.4564|           OUT035|                     2004|      Small|              Tier 2|Supermarket Type1|        5243.8408|\n",
      "|          DRK12|        9.5|         Low Fat|            0.0|Soft Drinks|   32.89|           OUT010|                     1998|       NULL|              Tier 3|    Grocery Store|            33.29|\n",
      "|          DRE60|      9.395|         Low Fat|    0.159582185|Soft Drinks| 224.772|           OUT049|                     1999|     Medium|              Tier 1|Supermarket Type1|         7017.532|\n",
      "|          DRE12|       4.59|         Low Fat|    0.070890602|Soft Drinks| 111.686|           OUT049|                     1999|     Medium|              Tier 1|Supermarket Type1|         1584.604|\n",
      "|          DRY23|      9.395|         Regular|    0.109075742|Soft Drinks| 42.9112|           OUT035|                     2004|      Small|              Tier 2|Supermarket Type1|          426.112|\n",
      "|          DRE13|       6.28|         Low Fat|    0.027761289|Soft Drinks| 85.8198|           OUT045|                     2002|       NULL|              Tier 2|Supermarket Type1|          872.198|\n",
      "|          DRZ24|      7.535|         Low Fat|    0.082250143|Soft Drinks| 118.344|           OUT017|                     2007|       NULL|              Tier 2|Supermarket Type1|         3115.944|\n",
      "+---------------+-----------+----------------+---------------+-----------+--------+-----------------+-------------------------+-----------+--------------------+-----------------+-----------------+\n",
      "only showing top 20 rows\n"
     ]
    }
   ],
   "source": [
    "# Scenario 2\n",
    "df.filter((col('Item_Type') == 'Soft Drinks') & (col('Item_Weight') < 10)).show()"
   ]
  },
  {
   "cell_type": "code",
   "execution_count": 16,
   "id": "b1153e6a-1bac-4278-9d80-3fbdcce2fad9",
   "metadata": {},
   "outputs": [
    {
     "name": "stdout",
     "output_type": "stream",
     "text": [
      "+---------------+-----------+----------------+---------------+--------------------+--------+-----------------+-------------------------+-----------+--------------------+-----------------+-----------------+\n",
      "|Item_Identifier|Item_Weight|Item_Fat_Content|Item_Visibility|           Item_Type|Item_MRP|Outlet_Identifier|Outlet_Establishment_Year|Outlet_Size|Outlet_Location_Type|      Outlet_Type|Item_Outlet_Sales|\n",
      "+---------------+-----------+----------------+---------------+--------------------+--------+-----------------+-------------------------+-----------+--------------------+-----------------+-----------------+\n",
      "|          FDH17|       16.2|         Regular|    0.016687114|        Frozen Foods| 96.9726|           OUT045|                     2002|       NULL|              Tier 2|Supermarket Type1|        1076.5986|\n",
      "|          FDU28|       19.2|         Regular|     0.09444959|        Frozen Foods|187.8214|           OUT017|                     2007|       NULL|              Tier 2|Supermarket Type1|         4710.535|\n",
      "|          NCD06|       13.0|         Low Fat|    0.099887103|           Household|  45.906|           OUT017|                     2007|       NULL|              Tier 2|Supermarket Type1|          838.908|\n",
      "|          FDO23|      17.85|         Low Fat|            0.0|              Breads| 93.1436|           OUT045|                     2002|       NULL|              Tier 2|Supermarket Type1|        2174.5028|\n",
      "|          NCP05|       19.6|         Low Fat|            0.0|  Health and Hygiene|153.3024|           OUT045|                     2002|       NULL|              Tier 2|Supermarket Type1|        2428.8384|\n",
      "|          FDV49|       10.0|         Low Fat|    0.025879577|              Canned|265.2226|           OUT045|                     2002|       NULL|              Tier 2|Supermarket Type1|        5815.0972|\n",
      "|          FDA43|     10.895|         Low Fat|    0.065041581|Fruits and Vegeta...|196.3794|           OUT017|                     2007|       NULL|              Tier 2|Supermarket Type1|        3121.2704|\n",
      "|          NCP18|      12.15|         Low Fat|    0.028760013|           Household|151.4708|           OUT017|                     2007|       NULL|              Tier 2|Supermarket Type1|        4815.0656|\n",
      "|          NCX54|      9.195|         Low Fat|    0.048157338|           Household|106.1622|           OUT045|                     2002|       NULL|              Tier 2|Supermarket Type1|         2117.244|\n",
      "|          FDV27|       7.97|         Regular|    0.040071131|                Meat| 87.3514|           OUT045|                     2002|       NULL|              Tier 2|Supermarket Type1|        1062.6168|\n",
      "|          FDZ03|      13.65|         Regular|    0.078946455|               Dairy| 186.024|           OUT045|                     2002|       NULL|              Tier 2|Supermarket Type1|         1118.544|\n",
      "|          DRH37|       17.6|         Low Fat|    0.041700756|         Soft Drinks|164.8526|           OUT045|                     2002|       NULL|              Tier 2|Supermarket Type1|        2302.3364|\n",
      "|          FDH35|      18.25|         Low Fat|            0.0|       Starchy Foods|164.7526|           OUT045|                     2002|       NULL|              Tier 2|Supermarket Type1|        4604.6728|\n",
      "|          FDG02|      7.855|         Low Fat|    0.011324862|              Canned|189.6188|           OUT017|                     2007|       NULL|              Tier 2|Supermarket Type1|        2285.0256|\n",
      "|          FDL04|       19.0|         Low Fat|    0.112556507|        Frozen Foods|104.9622|           OUT017|                     2007|       NULL|              Tier 2|Supermarket Type1|         1587.933|\n",
      "|          FDV25|      5.905|         Low Fat|            0.0|              Canned|222.5456|           OUT045|                     2002|       NULL|              Tier 2|Supermarket Type1|        5305.0944|\n",
      "|          FDG20|       15.5|         Regular|     0.12639886|Fruits and Vegeta...|177.0028|           OUT017|                     2007|       NULL|              Tier 2|Supermarket Type1|        2479.4392|\n",
      "|          DRI25|       19.6|         Low Fat|    0.033970195|         Soft Drinks| 55.1614|           OUT045|                     2002|       NULL|              Tier 2|Supermarket Type1|         1381.535|\n",
      "|          FDT28|       13.3|         Low Fat|    0.063695084|        Frozen Foods|151.0708|           OUT045|                     2002|       NULL|              Tier 2|Supermarket Type1|        1805.6496|\n",
      "|          FDG12|      6.635|         Regular|            0.0|        Baking Goods|121.3098|           OUT045|                     2002|       NULL|              Tier 2|Supermarket Type1|        2530.7058|\n",
      "+---------------+-----------+----------------+---------------+--------------------+--------+-----------------+-------------------------+-----------+--------------------+-----------------+-----------------+\n",
      "only showing top 20 rows\n"
     ]
    }
   ],
   "source": [
    "# Scenario 3\n",
    "df.filter((col('Outlet_Size').isNull()) & (col('Outlet_Location_Type').isin('Tier 1','Tier 2'))).show()"
   ]
  },
  {
   "cell_type": "code",
   "execution_count": 19,
   "id": "b341069d-de5f-4422-8b7d-441cab7fb0d6",
   "metadata": {},
   "outputs": [
    {
     "name": "stdout",
     "output_type": "stream",
     "text": [
      "+---------------+-------+----------------+---------------+--------------------+--------+-----------------+-------------------------+-----------+--------------------+-----------------+-----------------+\n",
      "|Item_Identifier|Item_Wt|Item_Fat_Content|Item_Visibility|           Item_Type|Item_MRP|Outlet_Identifier|Outlet_Establishment_Year|Outlet_Size|Outlet_Location_Type|      Outlet_Type|Item_Outlet_Sales|\n",
      "+---------------+-------+----------------+---------------+--------------------+--------+-----------------+-------------------------+-----------+--------------------+-----------------+-----------------+\n",
      "|          FDA15|    9.3|         Low Fat|    0.016047301|               Dairy|249.8092|           OUT049|                     1999|     Medium|              Tier 1|Supermarket Type1|         3735.138|\n",
      "|          DRC01|   5.92|         Regular|    0.019278216|         Soft Drinks| 48.2692|           OUT018|                     2009|     Medium|              Tier 3|Supermarket Type2|         443.4228|\n",
      "|          FDN15|   17.5|         Low Fat|    0.016760075|                Meat| 141.618|           OUT049|                     1999|     Medium|              Tier 1|Supermarket Type1|          2097.27|\n",
      "|          FDX07|   19.2|         Regular|            0.0|Fruits and Vegeta...| 182.095|           OUT010|                     1998|       NULL|              Tier 3|    Grocery Store|           732.38|\n",
      "|          NCD19|   8.93|         Low Fat|            0.0|           Household| 53.8614|           OUT013|                     1987|       High|              Tier 3|Supermarket Type1|         994.7052|\n",
      "|          FDP36| 10.395|         Regular|            0.0|        Baking Goods| 51.4008|           OUT018|                     2009|     Medium|              Tier 3|Supermarket Type2|         556.6088|\n",
      "|          FDO10|  13.65|         Regular|    0.012741089|         Snack Foods| 57.6588|           OUT013|                     1987|       High|              Tier 3|Supermarket Type1|         343.5528|\n",
      "|          FDP10|   NULL|         Low Fat|    0.127469857|         Snack Foods|107.7622|           OUT027|                     1985|     Medium|              Tier 3|Supermarket Type3|        4022.7636|\n",
      "|          FDH17|   16.2|         Regular|    0.016687114|        Frozen Foods| 96.9726|           OUT045|                     2002|       NULL|              Tier 2|Supermarket Type1|        1076.5986|\n",
      "|          FDU28|   19.2|         Regular|     0.09444959|        Frozen Foods|187.8214|           OUT017|                     2007|       NULL|              Tier 2|Supermarket Type1|         4710.535|\n",
      "|          FDY07|   11.8|         Low Fat|            0.0|Fruits and Vegeta...| 45.5402|           OUT049|                     1999|     Medium|              Tier 1|Supermarket Type1|        1516.0266|\n",
      "|          FDA03|   18.5|         Regular|    0.045463773|               Dairy|144.1102|           OUT046|                     1997|      Small|              Tier 1|Supermarket Type1|         2187.153|\n",
      "|          FDX32|   15.1|         Regular|      0.1000135|Fruits and Vegeta...|145.4786|           OUT049|                     1999|     Medium|              Tier 1|Supermarket Type1|        1589.2646|\n",
      "|          FDS46|   17.6|         Regular|    0.047257328|         Snack Foods|119.6782|           OUT046|                     1997|      Small|              Tier 1|Supermarket Type1|        2145.2076|\n",
      "|          FDF32|  16.35|         Low Fat|      0.0680243|Fruits and Vegeta...|196.4426|           OUT013|                     1987|       High|              Tier 3|Supermarket Type1|         1977.426|\n",
      "|          FDP49|    9.0|         Regular|    0.069088961|           Breakfast| 56.3614|           OUT046|                     1997|      Small|              Tier 1|Supermarket Type1|        1547.3192|\n",
      "|          NCB42|   11.8|         Low Fat|    0.008596051|  Health and Hygiene|115.3492|           OUT018|                     2009|     Medium|              Tier 3|Supermarket Type2|        1621.8888|\n",
      "|          FDP49|    9.0|         Regular|    0.069196376|           Breakfast| 54.3614|           OUT049|                     1999|     Medium|              Tier 1|Supermarket Type1|         718.3982|\n",
      "|          DRI11|   NULL|         Low Fat|    0.034237682|         Hard Drinks|113.2834|           OUT027|                     1985|     Medium|              Tier 3|Supermarket Type3|         2303.668|\n",
      "|          FDU02|  13.35|         Low Fat|     0.10249212|               Dairy|230.5352|           OUT035|                     2004|      Small|              Tier 2|Supermarket Type1|        2748.4224|\n",
      "+---------------+-------+----------------+---------------+--------------------+--------+-----------------+-------------------------+-----------+--------------------+-----------------+-----------------+\n",
      "only showing top 20 rows\n"
     ]
    }
   ],
   "source": [
    "# withColumnRenamed\n",
    "# Used to rename columns\n",
    "# Only changes column name at the dataframe level\n",
    "# Useful when performing joins\n",
    "df.withColumnRenamed('Item_Weight','Item_Wt').show()"
   ]
  },
  {
   "cell_type": "code",
   "execution_count": 19,
   "id": "b800f918-e413-43cc-b74e-4ce7d45403c0",
   "metadata": {},
   "outputs": [],
   "source": [
    "# withColumn\n",
    "# Used to create/modify columns\n",
    "\n",
    "# lit() is a function used to create a Column of literal value.\n",
    "from pyspark.sql.functions import lit, regexp_replace\n",
    "from pyspark.sql.types import StringType"
   ]
  },
  {
   "cell_type": "code",
   "execution_count": 15,
   "id": "3a103a37-8fb0-43c7-b41f-eee2514eb00f",
   "metadata": {},
   "outputs": [
    {
     "name": "stdout",
     "output_type": "stream",
     "text": [
      "+----+\n",
      "|flag|\n",
      "+----+\n",
      "| new|\n",
      "| new|\n",
      "| new|\n",
      "| new|\n",
      "| new|\n",
      "| new|\n",
      "| new|\n",
      "| new|\n",
      "| new|\n",
      "| new|\n",
      "| new|\n",
      "| new|\n",
      "| new|\n",
      "| new|\n",
      "| new|\n",
      "| new|\n",
      "| new|\n",
      "| new|\n",
      "| new|\n",
      "| new|\n",
      "+----+\n",
      "only showing top 20 rows\n"
     ]
    }
   ],
   "source": [
    "# Scenario 1 - Create new Column with a literal value\n",
    "df = df.withColumn('flag',lit(\"new\"))\n",
    "df.select(col('flag')).show()"
   ]
  },
  {
   "cell_type": "code",
   "execution_count": 16,
   "id": "be82087a-4058-4fa5-9aa2-b968c09cae89",
   "metadata": {},
   "outputs": [
    {
     "name": "stdout",
     "output_type": "stream",
     "text": [
      "+-----------+--------+------------------+\n",
      "|Item_Weight|Item_MRP|          multiply|\n",
      "+-----------+--------+------------------+\n",
      "|        9.3|249.8092|2323.2255600000003|\n",
      "|       5.92| 48.2692|285.75366399999996|\n",
      "|       17.5| 141.618|          2478.315|\n",
      "|       19.2| 182.095|3496.2239999999997|\n",
      "|       8.93| 53.8614|        480.982302|\n",
      "|     10.395| 51.4008| 534.3113159999999|\n",
      "|      13.65| 57.6588|         787.04262|\n",
      "|       NULL|107.7622|              NULL|\n",
      "|       16.2| 96.9726|1570.9561199999998|\n",
      "|       19.2|187.8214|        3606.17088|\n",
      "|       11.8| 45.5402|         537.37436|\n",
      "|       18.5|144.1102|         2666.0387|\n",
      "|       15.1|145.4786|2196.7268599999998|\n",
      "|       17.6|119.6782|2106.3363200000003|\n",
      "|      16.35|196.4426|        3211.83651|\n",
      "|        9.0| 56.3614|507.25260000000003|\n",
      "|       11.8|115.3492|        1361.12056|\n",
      "|        9.0| 54.3614|489.25260000000003|\n",
      "|       NULL|113.2834|              NULL|\n",
      "|      13.35|230.5352|        3077.64492|\n",
      "+-----------+--------+------------------+\n",
      "only showing top 20 rows\n"
     ]
    }
   ],
   "source": [
    "# Scenario 2 - Create new Column based on 2 Columns\n",
    "df = df.withColumn('multiply',col('Item_Weight')*col('Item_MRP'))\n",
    "df.select(col('Item_Weight'), col('Item_MRP'), col('multiply')).show()"
   ]
  },
  {
   "cell_type": "code",
   "execution_count": 20,
   "id": "3a5141cf-4df8-4c36-a6d5-400c72e2e88f",
   "metadata": {},
   "outputs": [
    {
     "name": "stdout",
     "output_type": "stream",
     "text": [
      "+----------------+\n",
      "|Item_Fat_Content|\n",
      "+----------------+\n",
      "|              Lf|\n",
      "|             Reg|\n",
      "|              Lf|\n",
      "|             Reg|\n",
      "|              Lf|\n",
      "|             Reg|\n",
      "|             Reg|\n",
      "|              Lf|\n",
      "|             Reg|\n",
      "|             Reg|\n",
      "|              Lf|\n",
      "|             Reg|\n",
      "|             Reg|\n",
      "|             Reg|\n",
      "|              Lf|\n",
      "|             Reg|\n",
      "|              Lf|\n",
      "|             Reg|\n",
      "|              Lf|\n",
      "|              Lf|\n",
      "+----------------+\n",
      "only showing top 20 rows\n"
     ]
    }
   ],
   "source": [
    "# Scenario 3 - Modify Existing Column\n",
    "df = df.withColumn('Item_Fat_Content',regexp_replace(col('Item_Fat_Content'),\"Regular\",\"Reg\"))\\\n",
    "    .withColumn('Item_Fat_Content',regexp_replace(col('Item_Fat_Content'),\"Low Fat\",\"Lf\"))\n",
    "df.select(col('Item_Fat_Content')).show()"
   ]
  },
  {
   "cell_type": "code",
   "execution_count": 22,
   "id": "77811f04-31db-47b2-971a-c6d89953d533",
   "metadata": {},
   "outputs": [
    {
     "name": "stdout",
     "output_type": "stream",
     "text": [
      "root\n",
      " |-- Item_Identifier: string (nullable = true)\n",
      " |-- Item_Weight: string (nullable = true)\n",
      " |-- Item_Fat_Content: string (nullable = true)\n",
      " |-- Item_Visibility: double (nullable = true)\n",
      " |-- Item_Type: string (nullable = true)\n",
      " |-- Item_MRP: double (nullable = true)\n",
      " |-- Outlet_Identifier: string (nullable = true)\n",
      " |-- Outlet_Establishment_Year: integer (nullable = true)\n",
      " |-- Outlet_Size: string (nullable = true)\n",
      " |-- Outlet_Location_Type: string (nullable = true)\n",
      " |-- Outlet_Type: string (nullable = true)\n",
      " |-- Item_Outlet_Sales: double (nullable = true)\n",
      " |-- flag: string (nullable = false)\n",
      " |-- multiply: double (nullable = true)\n",
      "\n"
     ]
    }
   ],
   "source": [
    "# Type Casting\n",
    "# Modify Existing Column Type\n",
    "df = df.withColumn('Item_Weight', col('Item_Weight').cast(StringType()))\n",
    "df.printSchema()"
   ]
  },
  {
   "cell_type": "code",
   "execution_count": 25,
   "id": "e979814f-7810-425b-ac11-affad1c5b8f1",
   "metadata": {},
   "outputs": [
    {
     "name": "stdout",
     "output_type": "stream",
     "text": [
      "+-----------+\n",
      "|Item_Weight|\n",
      "+-----------+\n",
      "|      9.895|\n",
      "|      9.895|\n",
      "|      9.895|\n",
      "|      9.895|\n",
      "|      9.895|\n",
      "|      9.895|\n",
      "|      9.895|\n",
      "|      9.895|\n",
      "|      9.895|\n",
      "|      9.895|\n",
      "|      9.895|\n",
      "|      9.895|\n",
      "|      9.895|\n",
      "|      9.895|\n",
      "|      9.895|\n",
      "|        9.8|\n",
      "|        9.8|\n",
      "|        9.8|\n",
      "|        9.8|\n",
      "|        9.8|\n",
      "+-----------+\n",
      "only showing top 20 rows\n"
     ]
    }
   ],
   "source": [
    "# Sort/orderBy\n",
    "\n",
    "# Scenario 1\n",
    "df = df.sort(col('Item_Weight').desc())\n",
    "df.select(col('Item_Weight')).show()"
   ]
  },
  {
   "cell_type": "code",
   "execution_count": 26,
   "id": "12b244a0-d745-4f84-bb9a-1c45d420f2b7",
   "metadata": {},
   "outputs": [
    {
     "name": "stdout",
     "output_type": "stream",
     "text": [
      "+---------------+\n",
      "|Item_Visibility|\n",
      "+---------------+\n",
      "|            0.0|\n",
      "|            0.0|\n",
      "|            0.0|\n",
      "|            0.0|\n",
      "|            0.0|\n",
      "|            0.0|\n",
      "|            0.0|\n",
      "|            0.0|\n",
      "|            0.0|\n",
      "|            0.0|\n",
      "|            0.0|\n",
      "|            0.0|\n",
      "|            0.0|\n",
      "|            0.0|\n",
      "|            0.0|\n",
      "|            0.0|\n",
      "|            0.0|\n",
      "|            0.0|\n",
      "|            0.0|\n",
      "|            0.0|\n",
      "+---------------+\n",
      "only showing top 20 rows\n"
     ]
    }
   ],
   "source": [
    "# Scenario 2\n",
    "df = df.sort(col('Item_Visibility').asc())\n",
    "df.select(col('Item_Visibility')).show()"
   ]
  },
  {
   "cell_type": "code",
   "execution_count": 30,
   "id": "0b92b48b-e250-460a-a558-1c397beff0ea",
   "metadata": {},
   "outputs": [
    {
     "name": "stdout",
     "output_type": "stream",
     "text": [
      "+-----------+---------------+\n",
      "|Item_Weight|Item_Visibility|\n",
      "+-----------+---------------+\n",
      "|      21.35|    0.130127365|\n",
      "|      21.35|    0.115194717|\n",
      "|      21.35|    0.078060605|\n",
      "|      21.35|    0.069102831|\n",
      "|      21.35|    0.068822477|\n",
      "|      21.35|    0.068809463|\n",
      "|      21.35|    0.068765205|\n",
      "|      21.25|    0.156012631|\n",
      "|      21.25|    0.155694794|\n",
      "|      21.25|    0.155350299|\n",
      "|      21.25|    0.155250377|\n",
      "|      21.25|    0.114246019|\n",
      "|      21.25|    0.114066204|\n",
      "|      21.25|    0.113833823|\n",
      "|      21.25|    0.024795057|\n",
      "|      21.25|    0.024756031|\n",
      "|      21.25|    0.024705597|\n",
      "|      21.25|    0.024693927|\n",
      "|      21.25|    0.024650932|\n",
      "|      21.25|    0.019533098|\n",
      "+-----------+---------------+\n",
      "only showing top 20 rows\n"
     ]
    }
   ],
   "source": [
    "# Scenario 3\n",
    "# ascending=[False, False] or ascending=[0, 0] is valid\n",
    "df = df.sort(['Item_Weight','Item_Visibility'],ascending = [0,0])\n",
    "df.select(col('Item_Weight'), col('Item_Visibility')).show()"
   ]
  },
  {
   "cell_type": "code",
   "execution_count": 31,
   "id": "ab65cd86-4972-4105-afcc-319ac4518041",
   "metadata": {},
   "outputs": [
    {
     "name": "stdout",
     "output_type": "stream",
     "text": [
      "+-----------+---------------+\n",
      "|Item_Weight|Item_Visibility|\n",
      "+-----------+---------------+\n",
      "|      21.35|    0.068765205|\n",
      "|      21.35|    0.068809463|\n",
      "|      21.35|    0.068822477|\n",
      "|      21.35|    0.069102831|\n",
      "|      21.35|    0.078060605|\n",
      "|      21.35|    0.115194717|\n",
      "|      21.35|    0.130127365|\n",
      "|      21.25|    0.009996872|\n",
      "|      21.25|    0.009998763|\n",
      "|      21.25|     0.01001904|\n",
      "|      21.25|    0.010039493|\n",
      "|      21.25|     0.01005532|\n",
      "|      21.25|    0.016735879|\n",
      "|      21.25|    0.019407069|\n",
      "|      21.25|    0.019423232|\n",
      "|      21.25|     0.01945343|\n",
      "|      21.25|    0.019462623|\n",
      "|      21.25|    0.019502354|\n",
      "|      21.25|    0.019533098|\n",
      "|      21.25|    0.024650932|\n",
      "+-----------+---------------+\n",
      "only showing top 20 rows\n"
     ]
    }
   ],
   "source": [
    "# Scenario 4\n",
    "df = df.sort(['Item_weight','Item_Visibility'], ascending = [0,1])\n",
    "df.select(col('Item_Weight'), col('Item_Visibility')).show()"
   ]
  },
  {
   "cell_type": "code",
   "execution_count": 32,
   "id": "6128034b-38f8-4cad-bd6d-033bc2b65630",
   "metadata": {},
   "outputs": [
    {
     "name": "stdout",
     "output_type": "stream",
     "text": [
      "+---------------+-----------+----------------+---------------+--------------------+--------+-----------------+-------------------------+-----------+--------------------+-----------------+-----------------+\n",
      "|Item_Identifier|Item_Weight|Item_Fat_Content|Item_Visibility|           Item_Type|Item_MRP|Outlet_Identifier|Outlet_Establishment_Year|Outlet_Size|Outlet_Location_Type|      Outlet_Type|Item_Outlet_Sales|\n",
      "+---------------+-----------+----------------+---------------+--------------------+--------+-----------------+-------------------------+-----------+--------------------+-----------------+-----------------+\n",
      "|          FDC02|      21.35|         Low Fat|    0.068765205|              Canned|260.4278|           OUT013|                     1987|       High|              Tier 3|Supermarket Type1|        3644.5892|\n",
      "|          FDC02|      21.35|         Low Fat|    0.068809463|              Canned|258.5278|           OUT035|                     2004|      Small|              Tier 2|Supermarket Type1|         5206.556|\n",
      "|          FDC02|      21.35|         Low Fat|    0.068822477|              Canned|258.3278|           OUT046|                     1997|      Small|              Tier 1|Supermarket Type1|        7028.8506|\n",
      "|          FDC02|      21.35|         Low Fat|    0.069102831|              Canned|259.9278|           OUT018|                     2009|     Medium|              Tier 3|Supermarket Type2|        6768.5228|\n",
      "|          FDR07|      21.35|         Low Fat|    0.078060605|Fruits and Vegeta...| 96.0094|           OUT018|                     2009|     Medium|              Tier 3|Supermarket Type2|         380.8376|\n",
      "|          FDC02|      21.35|         Low Fat|    0.115194717|              Canned|258.3278|           OUT010|                     1998|       NULL|              Tier 3|    Grocery Store|         520.6556|\n",
      "|          FDR07|      21.35|         Low Fat|    0.130127365|Fruits and Vegeta...| 96.2094|           OUT010|                     1998|       NULL|              Tier 3|    Grocery Store|         190.4188|\n",
      "|          FDT03|      21.25|         Low Fat|    0.009996872|                Meat|185.5608|           OUT035|                     2004|      Small|              Tier 2|Supermarket Type1|        3123.9336|\n",
      "|          FDT03|      21.25|         Low Fat|    0.009998763|                Meat|182.3608|           OUT046|                     1997|      Small|              Tier 1|Supermarket Type1|         551.2824|\n",
      "|          FDT03|      21.25|         Low Fat|     0.01001904|                Meat|184.6608|           OUT045|                     2002|       NULL|              Tier 2|Supermarket Type1|         367.5216|\n",
      "+---------------+-----------+----------------+---------------+--------------------+--------+-----------------+-------------------------+-----------+--------------------+-----------------+-----------------+\n",
      "\n"
     ]
    }
   ],
   "source": [
    "# LIMIT\n",
    "df.limit(10).show() "
   ]
  },
  {
   "cell_type": "code",
   "execution_count": 33,
   "id": "60a5d659-3486-4cc2-9bb8-876d12e14c15",
   "metadata": {},
   "outputs": [
    {
     "name": "stdout",
     "output_type": "stream",
     "text": [
      "+---------------+-----------+----------------+--------------------+--------+-----------------+-------------------------+-----------+--------------------+-----------------+-----------------+\n",
      "|Item_Identifier|Item_Weight|Item_Fat_Content|           Item_Type|Item_MRP|Outlet_Identifier|Outlet_Establishment_Year|Outlet_Size|Outlet_Location_Type|      Outlet_Type|Item_Outlet_Sales|\n",
      "+---------------+-----------+----------------+--------------------+--------+-----------------+-------------------------+-----------+--------------------+-----------------+-----------------+\n",
      "|          FDC02|      21.35|         Low Fat|              Canned|260.4278|           OUT013|                     1987|       High|              Tier 3|Supermarket Type1|        3644.5892|\n",
      "|          FDC02|      21.35|         Low Fat|              Canned|258.5278|           OUT035|                     2004|      Small|              Tier 2|Supermarket Type1|         5206.556|\n",
      "|          FDC02|      21.35|         Low Fat|              Canned|258.3278|           OUT046|                     1997|      Small|              Tier 1|Supermarket Type1|        7028.8506|\n",
      "|          FDC02|      21.35|         Low Fat|              Canned|259.9278|           OUT018|                     2009|     Medium|              Tier 3|Supermarket Type2|        6768.5228|\n",
      "|          FDR07|      21.35|         Low Fat|Fruits and Vegeta...| 96.0094|           OUT018|                     2009|     Medium|              Tier 3|Supermarket Type2|         380.8376|\n",
      "|          FDC02|      21.35|         Low Fat|              Canned|258.3278|           OUT010|                     1998|       NULL|              Tier 3|    Grocery Store|         520.6556|\n",
      "|          FDR07|      21.35|         Low Fat|Fruits and Vegeta...| 96.2094|           OUT010|                     1998|       NULL|              Tier 3|    Grocery Store|         190.4188|\n",
      "|          FDT03|      21.25|         Low Fat|                Meat|185.5608|           OUT035|                     2004|      Small|              Tier 2|Supermarket Type1|        3123.9336|\n",
      "|          FDT03|      21.25|         Low Fat|                Meat|182.3608|           OUT046|                     1997|      Small|              Tier 1|Supermarket Type1|         551.2824|\n",
      "|          FDT03|      21.25|         Low Fat|                Meat|184.6608|           OUT045|                     2002|       NULL|              Tier 2|Supermarket Type1|         367.5216|\n",
      "|          FDT03|      21.25|         Low Fat|                Meat|181.7608|           OUT018|                     2009|     Medium|              Tier 3|Supermarket Type2|        1102.5648|\n",
      "|          FDT03|      21.25|         Low Fat|                Meat|183.1608|           OUT017|                     2007|       NULL|              Tier 2|Supermarket Type1|         2756.412|\n",
      "|          FDT03|      21.25|         Low Fat|                Meat|185.2608|           OUT010|                     1998|       NULL|              Tier 3|    Grocery Store|         183.7608|\n",
      "|          FDQ21|      21.25|         low fat|         Snack Foods|119.3756|           OUT013|                     1987|       High|              Tier 3|Supermarket Type1|        3271.7412|\n",
      "|          FDQ21|      21.25|         Low Fat|         Snack Foods|120.8756|           OUT046|                     1997|      Small|              Tier 1|Supermarket Type1|        3150.5656|\n",
      "|          FDQ21|      21.25|         Low Fat|         Snack Foods|120.8756|           OUT049|                     1999|     Medium|              Tier 1|Supermarket Type1|        1454.1072|\n",
      "|          FDQ21|      21.25|         Low Fat|         Snack Foods|120.8756|           OUT045|                     2002|       NULL|              Tier 2|Supermarket Type1|        1575.2828|\n",
      "|          FDQ21|      21.25|         Low Fat|         Snack Foods|120.8756|           OUT018|                     2009|     Medium|              Tier 3|Supermarket Type2|        3150.5656|\n",
      "|          FDQ21|      21.25|         Low Fat|         Snack Foods|120.4756|           OUT017|                     2007|       NULL|              Tier 2|Supermarket Type1|        1938.8096|\n",
      "|          NCO42|      21.25|              LF|           Household|146.0102|           OUT035|                     2004|      Small|              Tier 2|Supermarket Type1|         2916.204|\n",
      "+---------------+-----------+----------------+--------------------+--------+-----------------+-------------------------+-----------+--------------------+-----------------+-----------------+\n",
      "only showing top 20 rows\n"
     ]
    }
   ],
   "source": [
    "# DROP\n",
    "\n",
    "# Scenario 1 - Drop Single Column\n",
    "df.drop('Item_Visibility').show()"
   ]
  },
  {
   "cell_type": "code",
   "execution_count": 34,
   "id": "e38dbff0-0da8-45be-b033-e0fef4c5a4c2",
   "metadata": {},
   "outputs": [
    {
     "name": "stdout",
     "output_type": "stream",
     "text": [
      "+---------------+-----------+----------------+--------+-----------------+-------------------------+-----------+--------------------+-----------------+-----------------+\n",
      "|Item_Identifier|Item_Weight|Item_Fat_Content|Item_MRP|Outlet_Identifier|Outlet_Establishment_Year|Outlet_Size|Outlet_Location_Type|      Outlet_Type|Item_Outlet_Sales|\n",
      "+---------------+-----------+----------------+--------+-----------------+-------------------------+-----------+--------------------+-----------------+-----------------+\n",
      "|          FDC02|      21.35|         Low Fat|260.4278|           OUT013|                     1987|       High|              Tier 3|Supermarket Type1|        3644.5892|\n",
      "|          FDC02|      21.35|         Low Fat|258.5278|           OUT035|                     2004|      Small|              Tier 2|Supermarket Type1|         5206.556|\n",
      "|          FDC02|      21.35|         Low Fat|258.3278|           OUT046|                     1997|      Small|              Tier 1|Supermarket Type1|        7028.8506|\n",
      "|          FDC02|      21.35|         Low Fat|259.9278|           OUT018|                     2009|     Medium|              Tier 3|Supermarket Type2|        6768.5228|\n",
      "|          FDR07|      21.35|         Low Fat| 96.0094|           OUT018|                     2009|     Medium|              Tier 3|Supermarket Type2|         380.8376|\n",
      "|          FDC02|      21.35|         Low Fat|258.3278|           OUT010|                     1998|       NULL|              Tier 3|    Grocery Store|         520.6556|\n",
      "|          FDR07|      21.35|         Low Fat| 96.2094|           OUT010|                     1998|       NULL|              Tier 3|    Grocery Store|         190.4188|\n",
      "|          FDT03|      21.25|         Low Fat|185.5608|           OUT035|                     2004|      Small|              Tier 2|Supermarket Type1|        3123.9336|\n",
      "|          FDT03|      21.25|         Low Fat|182.3608|           OUT046|                     1997|      Small|              Tier 1|Supermarket Type1|         551.2824|\n",
      "|          FDT03|      21.25|         Low Fat|184.6608|           OUT045|                     2002|       NULL|              Tier 2|Supermarket Type1|         367.5216|\n",
      "|          FDT03|      21.25|         Low Fat|181.7608|           OUT018|                     2009|     Medium|              Tier 3|Supermarket Type2|        1102.5648|\n",
      "|          FDT03|      21.25|         Low Fat|183.1608|           OUT017|                     2007|       NULL|              Tier 2|Supermarket Type1|         2756.412|\n",
      "|          FDT03|      21.25|         Low Fat|185.2608|           OUT010|                     1998|       NULL|              Tier 3|    Grocery Store|         183.7608|\n",
      "|          FDQ21|      21.25|         low fat|119.3756|           OUT013|                     1987|       High|              Tier 3|Supermarket Type1|        3271.7412|\n",
      "|          FDQ21|      21.25|         Low Fat|120.8756|           OUT046|                     1997|      Small|              Tier 1|Supermarket Type1|        3150.5656|\n",
      "|          FDQ21|      21.25|         Low Fat|120.8756|           OUT049|                     1999|     Medium|              Tier 1|Supermarket Type1|        1454.1072|\n",
      "|          FDQ21|      21.25|         Low Fat|120.8756|           OUT045|                     2002|       NULL|              Tier 2|Supermarket Type1|        1575.2828|\n",
      "|          FDQ21|      21.25|         Low Fat|120.8756|           OUT018|                     2009|     Medium|              Tier 3|Supermarket Type2|        3150.5656|\n",
      "|          FDQ21|      21.25|         Low Fat|120.4756|           OUT017|                     2007|       NULL|              Tier 2|Supermarket Type1|        1938.8096|\n",
      "|          NCO42|      21.25|              LF|146.0102|           OUT035|                     2004|      Small|              Tier 2|Supermarket Type1|         2916.204|\n",
      "+---------------+-----------+----------------+--------+-----------------+-------------------------+-----------+--------------------+-----------------+-----------------+\n",
      "only showing top 20 rows\n"
     ]
    }
   ],
   "source": [
    "# Scenario 1 - Drop Multiple Columns\n",
    "df.drop('Item_Visibility','Item_Type').show()"
   ]
  },
  {
   "cell_type": "code",
   "execution_count": 36,
   "id": "55f96524-4bba-4826-8ad6-bb2b07d5facf",
   "metadata": {},
   "outputs": [
    {
     "name": "stdout",
     "output_type": "stream",
     "text": [
      "+---------------+-----------+----------------+---------------+--------------------+--------+-----------------+-------------------------+-----------+--------------------+-----------------+-----------------+\n",
      "|Item_Identifier|Item_Weight|Item_Fat_Content|Item_Visibility|           Item_Type|Item_MRP|Outlet_Identifier|Outlet_Establishment_Year|Outlet_Size|Outlet_Location_Type|      Outlet_Type|Item_Outlet_Sales|\n",
      "+---------------+-----------+----------------+---------------+--------------------+--------+-----------------+-------------------------+-----------+--------------------+-----------------+-----------------+\n",
      "|          FDB57|      20.25|         Regular|    0.018801549|Fruits and Vegeta...|222.1772|           OUT035|                     2004|      Small|              Tier 2|Supermarket Type1|          5559.43|\n",
      "|          FDI27|       8.71|         Regular|     0.04605781|               Dairy| 43.8744|           OUT049|                     1999|     Medium|              Tier 1|Supermarket Type1|         633.8416|\n",
      "|          NCM41|       16.5|         Low Fat|    0.035801238|  Health and Hygiene|  92.612|           OUT018|                     2009|     Medium|              Tier 3|Supermarket Type2|          559.272|\n",
      "|          FDG16|      15.25|         Low Fat|    0.089742065|        Frozen Foods|213.7192|           OUT013|                     1987|       High|              Tier 3|Supermarket Type1|         1078.596|\n",
      "|          FDO58|       19.6|         Low Fat|    0.039544237|         Snack Foods|163.6526|           OUT013|                     1987|       High|              Tier 3|Supermarket Type1|        1151.1682|\n",
      "|          DRF36|       16.1|         Low Fat|    0.023577298|         Soft Drinks|192.6846|           OUT046|                     1997|      Small|              Tier 1|Supermarket Type1|         2866.269|\n",
      "|          FDC20|      10.65|              LF|    0.023971463|Fruits and Vegeta...| 54.0272|           OUT046|                     1997|      Small|              Tier 1|Supermarket Type1|         447.4176|\n",
      "|          FDJ16|      9.195|              LF|    0.114863923|        Frozen Foods| 59.0246|           OUT035|                     2004|      Small|              Tier 2|Supermarket Type1|        1853.5872|\n",
      "|          FDB12|      11.15|         Regular|    0.105287746|        Baking Goods|103.2648|           OUT035|                     2004|      Small|              Tier 2|Supermarket Type1|        2388.8904|\n",
      "|          FDM46|      7.365|         Low Fat|    0.159967845|         Snack Foods|  94.712|           OUT046|                     1997|      Small|              Tier 1|Supermarket Type1|         1304.968|\n",
      "|          FDT40|      5.985|              LF|    0.095795326|        Frozen Foods|128.4678|           OUT046|                     1997|      Small|              Tier 1|Supermarket Type1|         508.6712|\n",
      "|          NCN19|       13.1|         Low Fat|     0.01209726|              Others| 188.853|           OUT035|                     2004|      Small|              Tier 2|Supermarket Type1|         3225.801|\n",
      "|          NCC54|      17.75|         Low Fat|    0.098108957|  Health and Hygiene|240.9196|           OUT018|                     2009|     Medium|              Tier 3|Supermarket Type2|        4579.3724|\n",
      "|          NCN43|      12.15|         Low Fat|    0.006770252|              Others| 124.473|           OUT049|                     1999|     Medium|              Tier 1|Supermarket Type1|          1231.73|\n",
      "|          FDL44|      18.25|         Low Fat|    0.012264903|Fruits and Vegeta...|162.8894|           OUT013|                     1987|       High|              Tier 3|Supermarket Type1|        3397.5774|\n",
      "|          FDY59|      8.195|         Low Fat|    0.031377308|        Baking Goods| 93.6462|           OUT013|                     1987|       High|              Tier 3|Supermarket Type1|          925.462|\n",
      "|          FDV02|      16.75|         Low Fat|    0.060495243|               Dairy|169.8106|           OUT013|                     1987|       High|              Tier 3|Supermarket Type1|        3251.1014|\n",
      "|          FDN16|       12.6|         Regular|    0.062648111|        Frozen Foods| 104.899|           OUT013|                     1987|       High|              Tier 3|Supermarket Type1|         1960.781|\n",
      "|          FDD51|      11.15|         Low Fat|    0.120139206|               Dairy| 45.0744|           OUT049|                     1999|     Medium|              Tier 1|Supermarket Type1|          452.744|\n",
      "|          FDO38|      17.25|         Low Fat|    0.073135768|              Canned| 77.2986|           OUT018|                     2009|     Medium|              Tier 3|Supermarket Type2|        1012.6818|\n",
      "+---------------+-----------+----------------+---------------+--------------------+--------+-----------------+-------------------------+-----------+--------------------+-----------------+-----------------+\n",
      "only showing top 20 rows\n"
     ]
    }
   ],
   "source": [
    "# Scenario 2 - Drop All Duplicates\n",
    "df.dropDuplicates().show()"
   ]
  },
  {
   "cell_type": "code",
   "execution_count": 37,
   "id": "5bacc8ca-97a1-4278-bce3-23fc85923729",
   "metadata": {},
   "outputs": [
    {
     "ename": "ConnectionRefusedError",
     "evalue": "[Errno 111] Connection refused",
     "output_type": "error",
     "traceback": [
      "\u001b[31m---------------------------------------------------------------------------\u001b[39m",
      "\u001b[31mPy4JNetworkError\u001b[39m                          Traceback (most recent call last)",
      "\u001b[36mFile \u001b[39m\u001b[32m/usr/local/spark/python/lib/py4j-0.10.9.9-src.zip/py4j/java_gateway.py:1038\u001b[39m, in \u001b[36mGatewayClient.send_command\u001b[39m\u001b[34m(self, command, retry, binary)\u001b[39m\n\u001b[32m   1037\u001b[39m \u001b[38;5;28;01mtry\u001b[39;00m:\n\u001b[32m-> \u001b[39m\u001b[32m1038\u001b[39m     response = \u001b[43mconnection\u001b[49m\u001b[43m.\u001b[49m\u001b[43msend_command\u001b[49m\u001b[43m(\u001b[49m\u001b[43mcommand\u001b[49m\u001b[43m)\u001b[49m\n\u001b[32m   1039\u001b[39m     \u001b[38;5;28;01mif\u001b[39;00m binary:\n",
      "\u001b[36mFile \u001b[39m\u001b[32m/usr/local/spark/python/lib/py4j-0.10.9.9-src.zip/py4j/clientserver.py:540\u001b[39m, in \u001b[36mClientServerConnection.send_command\u001b[39m\u001b[34m(self, command)\u001b[39m\n\u001b[32m    539\u001b[39m \u001b[38;5;28;01mif\u001b[39;00m answer.strip() == \u001b[33m\"\u001b[39m\u001b[33m\"\u001b[39m:\n\u001b[32m--> \u001b[39m\u001b[32m540\u001b[39m     \u001b[38;5;28;01mraise\u001b[39;00m Py4JNetworkError(\n\u001b[32m    541\u001b[39m         \u001b[33m\"\u001b[39m\u001b[33mAnswer from Java side is empty\u001b[39m\u001b[33m\"\u001b[39m, when=proto.EMPTY_RESPONSE)\n\u001b[32m    542\u001b[39m \u001b[38;5;28;01mif\u001b[39;00m answer.startswith(proto.RETURN_MESSAGE):\n",
      "\u001b[31mPy4JNetworkError\u001b[39m: Answer from Java side is empty",
      "\nDuring handling of the above exception, another exception occurred:\n",
      "\u001b[31mConnectionRefusedError\u001b[39m                    Traceback (most recent call last)",
      "\u001b[36mCell\u001b[39m\u001b[36m \u001b[39m\u001b[32mIn[37]\u001b[39m\u001b[32m, line 2\u001b[39m\n\u001b[32m      1\u001b[39m \u001b[38;5;66;03m# Scenario 2 - Drop All Duplicates\u001b[39;00m\n\u001b[32m----> \u001b[39m\u001b[32m2\u001b[39m \u001b[43mdf\u001b[49m\u001b[43m.\u001b[49m\u001b[43mdistinct\u001b[49m\u001b[43m(\u001b[49m\u001b[43m)\u001b[49m.show()\n",
      "\u001b[36mFile \u001b[39m\u001b[32m/usr/local/spark/python/pyspark/sql/classic/dataframe.py:573\u001b[39m, in \u001b[36mDataFrame.distinct\u001b[39m\u001b[34m(self)\u001b[39m\n\u001b[32m    572\u001b[39m \u001b[38;5;28;01mdef\u001b[39;00m\u001b[38;5;250m \u001b[39m\u001b[34mdistinct\u001b[39m(\u001b[38;5;28mself\u001b[39m) -> ParentDataFrame:\n\u001b[32m--> \u001b[39m\u001b[32m573\u001b[39m     \u001b[38;5;28;01mreturn\u001b[39;00m DataFrame(\u001b[38;5;28;43mself\u001b[39;49m\u001b[43m.\u001b[49m\u001b[43m_jdf\u001b[49m\u001b[43m.\u001b[49m\u001b[43mdistinct\u001b[49m\u001b[43m(\u001b[49m\u001b[43m)\u001b[49m, \u001b[38;5;28mself\u001b[39m.sparkSession)\n",
      "\u001b[36mFile \u001b[39m\u001b[32m/usr/local/spark/python/lib/py4j-0.10.9.9-src.zip/py4j/java_gateway.py:1361\u001b[39m, in \u001b[36mJavaMember.__call__\u001b[39m\u001b[34m(self, *args)\u001b[39m\n\u001b[32m   1354\u001b[39m args_command, temp_args = \u001b[38;5;28mself\u001b[39m._build_args(*args)\n\u001b[32m   1356\u001b[39m command = proto.CALL_COMMAND_NAME +\\\n\u001b[32m   1357\u001b[39m     \u001b[38;5;28mself\u001b[39m.command_header +\\\n\u001b[32m   1358\u001b[39m     args_command +\\\n\u001b[32m   1359\u001b[39m     proto.END_COMMAND_PART\n\u001b[32m-> \u001b[39m\u001b[32m1361\u001b[39m answer = \u001b[38;5;28;43mself\u001b[39;49m\u001b[43m.\u001b[49m\u001b[43mgateway_client\u001b[49m\u001b[43m.\u001b[49m\u001b[43msend_command\u001b[49m\u001b[43m(\u001b[49m\u001b[43mcommand\u001b[49m\u001b[43m)\u001b[49m\n\u001b[32m   1362\u001b[39m return_value = get_return_value(\n\u001b[32m   1363\u001b[39m     answer, \u001b[38;5;28mself\u001b[39m.gateway_client, \u001b[38;5;28mself\u001b[39m.target_id, \u001b[38;5;28mself\u001b[39m.name)\n\u001b[32m   1365\u001b[39m \u001b[38;5;28;01mfor\u001b[39;00m temp_arg \u001b[38;5;129;01min\u001b[39;00m temp_args:\n",
      "\u001b[36mFile \u001b[39m\u001b[32m/usr/local/spark/python/lib/py4j-0.10.9.9-src.zip/py4j/java_gateway.py:1057\u001b[39m, in \u001b[36mGatewayClient.send_command\u001b[39m\u001b[34m(self, command, retry, binary)\u001b[39m\n\u001b[32m   1055\u001b[39m         retry = \u001b[38;5;28;01mFalse\u001b[39;00m\n\u001b[32m   1056\u001b[39m     logging.info(\u001b[33m\"\u001b[39m\u001b[33mException while sending command.\u001b[39m\u001b[33m\"\u001b[39m, exc_info=\u001b[38;5;28;01mTrue\u001b[39;00m)\n\u001b[32m-> \u001b[39m\u001b[32m1057\u001b[39m     response = \u001b[38;5;28;43mself\u001b[39;49m\u001b[43m.\u001b[49m\u001b[43msend_command\u001b[49m\u001b[43m(\u001b[49m\u001b[43mcommand\u001b[49m\u001b[43m,\u001b[49m\u001b[43m \u001b[49m\u001b[43mretry\u001b[49m\u001b[43m,\u001b[49m\u001b[43m \u001b[49m\u001b[43mbinary\u001b[49m\u001b[43m=\u001b[49m\u001b[43mbinary\u001b[49m\u001b[43m)\u001b[49m\n\u001b[32m   1058\u001b[39m \u001b[38;5;28;01melse\u001b[39;00m:\n\u001b[32m   1059\u001b[39m     logging.exception(\n\u001b[32m   1060\u001b[39m         \u001b[33m\"\u001b[39m\u001b[33mException while sending command.\u001b[39m\u001b[33m\"\u001b[39m)\n",
      "\u001b[36mFile \u001b[39m\u001b[32m/usr/local/spark/python/lib/py4j-0.10.9.9-src.zip/py4j/java_gateway.py:1036\u001b[39m, in \u001b[36mGatewayClient.send_command\u001b[39m\u001b[34m(self, command, retry, binary)\u001b[39m\n\u001b[32m   1015\u001b[39m \u001b[38;5;28;01mdef\u001b[39;00m\u001b[38;5;250m \u001b[39m\u001b[34msend_command\u001b[39m(\u001b[38;5;28mself\u001b[39m, command, retry=\u001b[38;5;28;01mTrue\u001b[39;00m, binary=\u001b[38;5;28;01mFalse\u001b[39;00m):\n\u001b[32m   1016\u001b[39m \u001b[38;5;250m    \u001b[39m\u001b[33;03m\"\"\"Sends a command to the JVM. This method is not intended to be\u001b[39;00m\n\u001b[32m   1017\u001b[39m \u001b[33;03m       called directly by Py4J users. It is usually called by\u001b[39;00m\n\u001b[32m   1018\u001b[39m \u001b[33;03m       :class:`JavaMember` instances.\u001b[39;00m\n\u001b[32m   (...)\u001b[39m\u001b[32m   1034\u001b[39m \u001b[33;03m     if `binary` is `True`.\u001b[39;00m\n\u001b[32m   1035\u001b[39m \u001b[33;03m    \"\"\"\u001b[39;00m\n\u001b[32m-> \u001b[39m\u001b[32m1036\u001b[39m     connection = \u001b[38;5;28;43mself\u001b[39;49m\u001b[43m.\u001b[49m\u001b[43m_get_connection\u001b[49m\u001b[43m(\u001b[49m\u001b[43m)\u001b[49m\n\u001b[32m   1037\u001b[39m     \u001b[38;5;28;01mtry\u001b[39;00m:\n\u001b[32m   1038\u001b[39m         response = connection.send_command(command)\n",
      "\u001b[36mFile \u001b[39m\u001b[32m/usr/local/spark/python/lib/py4j-0.10.9.9-src.zip/py4j/clientserver.py:284\u001b[39m, in \u001b[36mJavaClient._get_connection\u001b[39m\u001b[34m(self)\u001b[39m\n\u001b[32m    281\u001b[39m     \u001b[38;5;28;01mpass\u001b[39;00m\n\u001b[32m    283\u001b[39m \u001b[38;5;28;01mif\u001b[39;00m connection \u001b[38;5;129;01mis\u001b[39;00m \u001b[38;5;28;01mNone\u001b[39;00m \u001b[38;5;129;01mor\u001b[39;00m connection.socket \u001b[38;5;129;01mis\u001b[39;00m \u001b[38;5;28;01mNone\u001b[39;00m:\n\u001b[32m--> \u001b[39m\u001b[32m284\u001b[39m     connection = \u001b[38;5;28;43mself\u001b[39;49m\u001b[43m.\u001b[49m\u001b[43m_create_new_connection\u001b[49m\u001b[43m(\u001b[49m\u001b[43m)\u001b[49m\n\u001b[32m    285\u001b[39m \u001b[38;5;28;01mreturn\u001b[39;00m connection\n",
      "\u001b[36mFile \u001b[39m\u001b[32m/usr/local/spark/python/lib/py4j-0.10.9.9-src.zip/py4j/clientserver.py:291\u001b[39m, in \u001b[36mJavaClient._create_new_connection\u001b[39m\u001b[34m(self)\u001b[39m\n\u001b[32m    287\u001b[39m \u001b[38;5;28;01mdef\u001b[39;00m\u001b[38;5;250m \u001b[39m\u001b[34m_create_new_connection\u001b[39m(\u001b[38;5;28mself\u001b[39m):\n\u001b[32m    288\u001b[39m     connection = ClientServerConnection(\n\u001b[32m    289\u001b[39m         \u001b[38;5;28mself\u001b[39m.java_parameters, \u001b[38;5;28mself\u001b[39m.python_parameters,\n\u001b[32m    290\u001b[39m         \u001b[38;5;28mself\u001b[39m.gateway_property, \u001b[38;5;28mself\u001b[39m)\n\u001b[32m--> \u001b[39m\u001b[32m291\u001b[39m     \u001b[43mconnection\u001b[49m\u001b[43m.\u001b[49m\u001b[43mconnect_to_java_server\u001b[49m\u001b[43m(\u001b[49m\u001b[43m)\u001b[49m\n\u001b[32m    292\u001b[39m     \u001b[38;5;28mself\u001b[39m.set_thread_connection(connection)\n\u001b[32m    293\u001b[39m     \u001b[38;5;28;01mreturn\u001b[39;00m connection\n",
      "\u001b[36mFile \u001b[39m\u001b[32m/usr/local/spark/python/lib/py4j-0.10.9.9-src.zip/py4j/clientserver.py:438\u001b[39m, in \u001b[36mClientServerConnection.connect_to_java_server\u001b[39m\u001b[34m(self)\u001b[39m\n\u001b[32m    435\u001b[39m \u001b[38;5;28;01mif\u001b[39;00m \u001b[38;5;28mself\u001b[39m.ssl_context:\n\u001b[32m    436\u001b[39m     \u001b[38;5;28mself\u001b[39m.socket = \u001b[38;5;28mself\u001b[39m.ssl_context.wrap_socket(\n\u001b[32m    437\u001b[39m         \u001b[38;5;28mself\u001b[39m.socket, server_hostname=\u001b[38;5;28mself\u001b[39m.java_address)\n\u001b[32m--> \u001b[39m\u001b[32m438\u001b[39m \u001b[38;5;28;43mself\u001b[39;49m\u001b[43m.\u001b[49m\u001b[43msocket\u001b[49m\u001b[43m.\u001b[49m\u001b[43mconnect\u001b[49m\u001b[43m(\u001b[49m\u001b[43m(\u001b[49m\u001b[38;5;28;43mself\u001b[39;49m\u001b[43m.\u001b[49m\u001b[43mjava_address\u001b[49m\u001b[43m,\u001b[49m\u001b[43m \u001b[49m\u001b[38;5;28;43mself\u001b[39;49m\u001b[43m.\u001b[49m\u001b[43mjava_port\u001b[49m\u001b[43m)\u001b[49m\u001b[43m)\u001b[49m\n\u001b[32m    439\u001b[39m \u001b[38;5;28mself\u001b[39m.stream = \u001b[38;5;28mself\u001b[39m.socket.makefile(\u001b[33m\"\u001b[39m\u001b[33mrb\u001b[39m\u001b[33m\"\u001b[39m)\n\u001b[32m    440\u001b[39m \u001b[38;5;28mself\u001b[39m.is_connected = \u001b[38;5;28;01mTrue\u001b[39;00m\n",
      "\u001b[31mConnectionRefusedError\u001b[39m: [Errno 111] Connection refused"
     ]
    }
   ],
   "source": [
    "# Scenario 2 - Drop All Duplicates\n",
    "df.distinct().show()"
   ]
  },
  {
   "cell_type": "code",
   "execution_count": 2,
   "id": "9f0a8070-19f0-441b-bd80-de5e3b358391",
   "metadata": {},
   "outputs": [
    {
     "name": "stdout",
     "output_type": "stream",
     "text": [
      "+---------------+-----------+----------------+---------------+--------------------+--------+-----------------+-------------------------+-----------+--------------------+-----------------+-----------------+\n",
      "|Item_Identifier|Item_Weight|Item_Fat_Content|Item_Visibility|           Item_Type|Item_MRP|Outlet_Identifier|Outlet_Establishment_Year|Outlet_Size|Outlet_Location_Type|      Outlet_Type|Item_Outlet_Sales|\n",
      "+---------------+-----------+----------------+---------------+--------------------+--------+-----------------+-------------------------+-----------+--------------------+-----------------+-----------------+\n",
      "|          FDP36|     10.395|         Regular|            0.0|        Baking Goods| 51.4008|           OUT018|                     2009|     Medium|              Tier 3|Supermarket Type2|         556.6088|\n",
      "|          FDO23|      17.85|         Low Fat|            0.0|              Breads| 93.1436|           OUT045|                     2002|       NULL|              Tier 2|Supermarket Type1|        2174.5028|\n",
      "|          FDP49|        9.0|         Regular|    0.069088961|           Breakfast| 56.3614|           OUT046|                     1997|      Small|              Tier 1|Supermarket Type1|        1547.3192|\n",
      "|          FDC14|       NULL|         Regular|    0.072221801|              Canned| 43.6454|           OUT019|                     1985|      Small|              Tier 1|    Grocery Store|         125.8362|\n",
      "|          FDA15|        9.3|         Low Fat|    0.016047301|               Dairy|249.8092|           OUT049|                     1999|     Medium|              Tier 1|Supermarket Type1|         3735.138|\n",
      "|          FDH17|       16.2|         Regular|    0.016687114|        Frozen Foods| 96.9726|           OUT045|                     2002|       NULL|              Tier 2|Supermarket Type1|        1076.5986|\n",
      "|          FDX07|       19.2|         Regular|            0.0|Fruits and Vegeta...| 182.095|           OUT010|                     1998|       NULL|              Tier 3|    Grocery Store|           732.38|\n",
      "|          DRI11|       NULL|         Low Fat|    0.034237682|         Hard Drinks|113.2834|           OUT027|                     1985|     Medium|              Tier 3|Supermarket Type3|         2303.668|\n",
      "|          NCB42|       11.8|         Low Fat|    0.008596051|  Health and Hygiene|115.3492|           OUT018|                     2009|     Medium|              Tier 3|Supermarket Type2|        1621.8888|\n",
      "|          NCD19|       8.93|         Low Fat|            0.0|           Household| 53.8614|           OUT013|                     1987|       High|              Tier 3|Supermarket Type1|         994.7052|\n",
      "|          FDN15|       17.5|         Low Fat|    0.016760075|                Meat| 141.618|           OUT049|                     1999|     Medium|              Tier 1|Supermarket Type1|          2097.27|\n",
      "|          NCN07|       18.5|         Low Fat|    0.056816465|              Others|132.1284|           OUT010|                     1998|       NULL|              Tier 3|    Grocery Store|         263.6568|\n",
      "|          FDG33|       NULL|         Regular|     0.13956116|             Seafood|170.4764|           OUT027|                     1985|     Medium|              Tier 3|Supermarket Type3|         3435.528|\n",
      "|          FDO10|      13.65|         Regular|    0.012741089|         Snack Foods| 57.6588|           OUT013|                     1987|       High|              Tier 3|Supermarket Type1|         343.5528|\n",
      "|          DRC01|       5.92|         Regular|    0.019278216|         Soft Drinks| 48.2692|           OUT018|                     2009|     Medium|              Tier 3|Supermarket Type2|         443.4228|\n",
      "|          FDH35|      18.25|         Low Fat|            0.0|       Starchy Foods|164.7526|           OUT045|                     2002|       NULL|              Tier 2|Supermarket Type1|        4604.6728|\n",
      "+---------------+-----------+----------------+---------------+--------------------+--------+-----------------+-------------------------+-----------+--------------------+-----------------+-----------------+\n",
      "\n"
     ]
    }
   ],
   "source": [
    "# Scenario 2 - Drop rows when a subset of columns have duplicates\n",
    "df.drop_duplicates(subset=['Item_Type']).show()"
   ]
  },
  {
   "cell_type": "code",
   "execution_count": 5,
   "id": "53a441bc-4d03-4e5a-8169-4e3a0b9fdf85",
   "metadata": {},
   "outputs": [
    {
     "name": "stdout",
     "output_type": "stream",
     "text": [
      "+--------------------+\n",
      "|  initcap(Item_Type)|\n",
      "+--------------------+\n",
      "|               Dairy|\n",
      "|         Soft Drinks|\n",
      "|                Meat|\n",
      "|Fruits And Vegeta...|\n",
      "|           Household|\n",
      "|        Baking Goods|\n",
      "|         Snack Foods|\n",
      "|         Snack Foods|\n",
      "|        Frozen Foods|\n",
      "|        Frozen Foods|\n",
      "|Fruits And Vegeta...|\n",
      "|               Dairy|\n",
      "|Fruits And Vegeta...|\n",
      "|         Snack Foods|\n",
      "|Fruits And Vegeta...|\n",
      "|           Breakfast|\n",
      "|  Health And Hygiene|\n",
      "|           Breakfast|\n",
      "|         Hard Drinks|\n",
      "|               Dairy|\n",
      "+--------------------+\n",
      "only showing top 20 rows\n"
     ]
    }
   ],
   "source": [
    "# String Functions\n",
    "# INITCAP() - Translate the first letter of each word to upper case in the sentence.\n",
    "\n",
    "df.select(initcap('Item_Type')).show()"
   ]
  },
  {
   "cell_type": "code",
   "execution_count": 8,
   "id": "a2fde6d9-2706-4884-ac47-dc5a8fca5aa8",
   "metadata": {},
   "outputs": [
    {
     "name": "stdout",
     "output_type": "stream",
     "text": [
      "+--------------------+\n",
      "|    upper(Item_Type)|\n",
      "+--------------------+\n",
      "|               DAIRY|\n",
      "|         SOFT DRINKS|\n",
      "|                MEAT|\n",
      "|FRUITS AND VEGETA...|\n",
      "|           HOUSEHOLD|\n",
      "|        BAKING GOODS|\n",
      "|         SNACK FOODS|\n",
      "|         SNACK FOODS|\n",
      "|        FROZEN FOODS|\n",
      "|        FROZEN FOODS|\n",
      "|FRUITS AND VEGETA...|\n",
      "|               DAIRY|\n",
      "|FRUITS AND VEGETA...|\n",
      "|         SNACK FOODS|\n",
      "|FRUITS AND VEGETA...|\n",
      "|           BREAKFAST|\n",
      "|  HEALTH AND HYGIENE|\n",
      "|           BREAKFAST|\n",
      "|         HARD DRINKS|\n",
      "|               DAIRY|\n",
      "+--------------------+\n",
      "only showing top 20 rows\n"
     ]
    }
   ],
   "source": [
    "# UPPER() \n",
    "df.select(upper('Item_Type')).show()"
   ]
  },
  {
   "cell_type": "code",
   "execution_count": 9,
   "id": "63b43f97-5072-4e59-8a64-38d64a696761",
   "metadata": {},
   "outputs": [
    {
     "name": "stdout",
     "output_type": "stream",
     "text": [
      "+--------------------+\n",
      "|     upper_Item_Type|\n",
      "+--------------------+\n",
      "|               DAIRY|\n",
      "|         SOFT DRINKS|\n",
      "|                MEAT|\n",
      "|FRUITS AND VEGETA...|\n",
      "|           HOUSEHOLD|\n",
      "|        BAKING GOODS|\n",
      "|         SNACK FOODS|\n",
      "|         SNACK FOODS|\n",
      "|        FROZEN FOODS|\n",
      "|        FROZEN FOODS|\n",
      "|FRUITS AND VEGETA...|\n",
      "|               DAIRY|\n",
      "|FRUITS AND VEGETA...|\n",
      "|         SNACK FOODS|\n",
      "|FRUITS AND VEGETA...|\n",
      "|           BREAKFAST|\n",
      "|  HEALTH AND HYGIENE|\n",
      "|           BREAKFAST|\n",
      "|         HARD DRINKS|\n",
      "|               DAIRY|\n",
      "+--------------------+\n",
      "only showing top 20 rows\n"
     ]
    }
   ],
   "source": [
    "df.select(upper('Item_Type').alias('upper_Item_Type')).show()"
   ]
  },
  {
   "cell_type": "code",
   "execution_count": 10,
   "id": "29a9467d-444e-472c-a823-17a4cc8052bd",
   "metadata": {},
   "outputs": [
    {
     "name": "stdout",
     "output_type": "stream",
     "text": [
      "+--------------------+\n",
      "|     upper_Item_Type|\n",
      "+--------------------+\n",
      "|               dairy|\n",
      "|         soft drinks|\n",
      "|                meat|\n",
      "|fruits and vegeta...|\n",
      "|           household|\n",
      "|        baking goods|\n",
      "|         snack foods|\n",
      "|         snack foods|\n",
      "|        frozen foods|\n",
      "|        frozen foods|\n",
      "|fruits and vegeta...|\n",
      "|               dairy|\n",
      "|fruits and vegeta...|\n",
      "|         snack foods|\n",
      "|fruits and vegeta...|\n",
      "|           breakfast|\n",
      "|  health and hygiene|\n",
      "|           breakfast|\n",
      "|         hard drinks|\n",
      "|               dairy|\n",
      "+--------------------+\n",
      "only showing top 20 rows\n"
     ]
    }
   ],
   "source": [
    "# LOWER\n",
    "df.select(lower('Item_Type').alias('upper_Item_Type')).show()"
   ]
  },
  {
   "cell_type": "code",
   "execution_count": 40,
   "id": "8f63b9c1-2243-4884-85a9-ca029d6d56e4",
   "metadata": {},
   "outputs": [
    {
     "name": "stdout",
     "output_type": "stream",
     "text": [
      "+---------------+-----------+----------------+---------------+--------------------+--------+-----------------+-------------------------+-----------+--------------------+-----------------+-----------------+----------+\n",
      "|Item_Identifier|Item_Weight|Item_Fat_Content|Item_Visibility|           Item_Type|Item_MRP|Outlet_Identifier|Outlet_Establishment_Year|Outlet_Size|Outlet_Location_Type|      Outlet_Type|Item_Outlet_Sales| curr_date|\n",
      "+---------------+-----------+----------------+---------------+--------------------+--------+-----------------+-------------------------+-----------+--------------------+-----------------+-----------------+----------+\n",
      "|          FDA15|        9.3|         Low Fat|    0.016047301|               Dairy|249.8092|           OUT049|                     1999|     Medium|              Tier 1|Supermarket Type1|         3735.138|2025-08-19|\n",
      "|          DRC01|       5.92|         Regular|    0.019278216|         Soft Drinks| 48.2692|           OUT018|                     2009|     Medium|              Tier 3|Supermarket Type2|         443.4228|2025-08-19|\n",
      "|          FDN15|       17.5|         Low Fat|    0.016760075|                Meat| 141.618|           OUT049|                     1999|     Medium|              Tier 1|Supermarket Type1|          2097.27|2025-08-19|\n",
      "|          FDX07|       19.2|         Regular|            0.0|Fruits and Vegeta...| 182.095|           OUT010|                     1998|       NULL|              Tier 3|    Grocery Store|           732.38|2025-08-19|\n",
      "|          NCD19|       8.93|         Low Fat|            0.0|           Household| 53.8614|           OUT013|                     1987|       High|              Tier 3|Supermarket Type1|         994.7052|2025-08-19|\n",
      "|          FDP36|     10.395|         Regular|            0.0|        Baking Goods| 51.4008|           OUT018|                     2009|     Medium|              Tier 3|Supermarket Type2|         556.6088|2025-08-19|\n",
      "|          FDO10|      13.65|         Regular|    0.012741089|         Snack Foods| 57.6588|           OUT013|                     1987|       High|              Tier 3|Supermarket Type1|         343.5528|2025-08-19|\n",
      "|          FDP10|       NULL|         Low Fat|    0.127469857|         Snack Foods|107.7622|           OUT027|                     1985|     Medium|              Tier 3|Supermarket Type3|        4022.7636|2025-08-19|\n",
      "|          FDH17|       16.2|         Regular|    0.016687114|        Frozen Foods| 96.9726|           OUT045|                     2002|       NULL|              Tier 2|Supermarket Type1|        1076.5986|2025-08-19|\n",
      "|          FDU28|       19.2|         Regular|     0.09444959|        Frozen Foods|187.8214|           OUT017|                     2007|       NULL|              Tier 2|Supermarket Type1|         4710.535|2025-08-19|\n",
      "|          FDY07|       11.8|         Low Fat|            0.0|Fruits and Vegeta...| 45.5402|           OUT049|                     1999|     Medium|              Tier 1|Supermarket Type1|        1516.0266|2025-08-19|\n",
      "|          FDA03|       18.5|         Regular|    0.045463773|               Dairy|144.1102|           OUT046|                     1997|      Small|              Tier 1|Supermarket Type1|         2187.153|2025-08-19|\n",
      "|          FDX32|       15.1|         Regular|      0.1000135|Fruits and Vegeta...|145.4786|           OUT049|                     1999|     Medium|              Tier 1|Supermarket Type1|        1589.2646|2025-08-19|\n",
      "|          FDS46|       17.6|         Regular|    0.047257328|         Snack Foods|119.6782|           OUT046|                     1997|      Small|              Tier 1|Supermarket Type1|        2145.2076|2025-08-19|\n",
      "|          FDF32|      16.35|         Low Fat|      0.0680243|Fruits and Vegeta...|196.4426|           OUT013|                     1987|       High|              Tier 3|Supermarket Type1|         1977.426|2025-08-19|\n",
      "|          FDP49|        9.0|         Regular|    0.069088961|           Breakfast| 56.3614|           OUT046|                     1997|      Small|              Tier 1|Supermarket Type1|        1547.3192|2025-08-19|\n",
      "|          NCB42|       11.8|         Low Fat|    0.008596051|  Health and Hygiene|115.3492|           OUT018|                     2009|     Medium|              Tier 3|Supermarket Type2|        1621.8888|2025-08-19|\n",
      "|          FDP49|        9.0|         Regular|    0.069196376|           Breakfast| 54.3614|           OUT049|                     1999|     Medium|              Tier 1|Supermarket Type1|         718.3982|2025-08-19|\n",
      "|          DRI11|       NULL|         Low Fat|    0.034237682|         Hard Drinks|113.2834|           OUT027|                     1985|     Medium|              Tier 3|Supermarket Type3|         2303.668|2025-08-19|\n",
      "|          FDU02|      13.35|         Low Fat|     0.10249212|               Dairy|230.5352|           OUT035|                     2004|      Small|              Tier 2|Supermarket Type1|        2748.4224|2025-08-19|\n",
      "+---------------+-----------+----------------+---------------+--------------------+--------+-----------------+-------------------------+-----------+--------------------+-----------------+-----------------+----------+\n",
      "only showing top 20 rows\n"
     ]
    }
   ],
   "source": [
    "# Date Functions\n",
    "# CURRENT_DATE()\n",
    "\n",
    "df = spark.read.format('csv').option('inferSchema',True).option('header',True).load('BigMart_Sales.csv')\n",
    "df = df.withColumn('curr_date',current_date())\n",
    "\n",
    "df.show()"
   ]
  },
  {
   "cell_type": "code",
   "execution_count": 41,
   "id": "d09523b5-2e3d-4262-82dd-40eee983e2dd",
   "metadata": {},
   "outputs": [
    {
     "name": "stdout",
     "output_type": "stream",
     "text": [
      "+---------------+-----------+----------------+---------------+--------------------+--------+-----------------+-------------------------+-----------+--------------------+-----------------+-----------------+----------+----------+\n",
      "|Item_Identifier|Item_Weight|Item_Fat_Content|Item_Visibility|           Item_Type|Item_MRP|Outlet_Identifier|Outlet_Establishment_Year|Outlet_Size|Outlet_Location_Type|      Outlet_Type|Item_Outlet_Sales| curr_date|week_after|\n",
      "+---------------+-----------+----------------+---------------+--------------------+--------+-----------------+-------------------------+-----------+--------------------+-----------------+-----------------+----------+----------+\n",
      "|          FDA15|        9.3|         Low Fat|    0.016047301|               Dairy|249.8092|           OUT049|                     1999|     Medium|              Tier 1|Supermarket Type1|         3735.138|2025-08-19|2025-08-26|\n",
      "|          DRC01|       5.92|         Regular|    0.019278216|         Soft Drinks| 48.2692|           OUT018|                     2009|     Medium|              Tier 3|Supermarket Type2|         443.4228|2025-08-19|2025-08-26|\n",
      "|          FDN15|       17.5|         Low Fat|    0.016760075|                Meat| 141.618|           OUT049|                     1999|     Medium|              Tier 1|Supermarket Type1|          2097.27|2025-08-19|2025-08-26|\n",
      "|          FDX07|       19.2|         Regular|            0.0|Fruits and Vegeta...| 182.095|           OUT010|                     1998|       NULL|              Tier 3|    Grocery Store|           732.38|2025-08-19|2025-08-26|\n",
      "|          NCD19|       8.93|         Low Fat|            0.0|           Household| 53.8614|           OUT013|                     1987|       High|              Tier 3|Supermarket Type1|         994.7052|2025-08-19|2025-08-26|\n",
      "|          FDP36|     10.395|         Regular|            0.0|        Baking Goods| 51.4008|           OUT018|                     2009|     Medium|              Tier 3|Supermarket Type2|         556.6088|2025-08-19|2025-08-26|\n",
      "|          FDO10|      13.65|         Regular|    0.012741089|         Snack Foods| 57.6588|           OUT013|                     1987|       High|              Tier 3|Supermarket Type1|         343.5528|2025-08-19|2025-08-26|\n",
      "|          FDP10|       NULL|         Low Fat|    0.127469857|         Snack Foods|107.7622|           OUT027|                     1985|     Medium|              Tier 3|Supermarket Type3|        4022.7636|2025-08-19|2025-08-26|\n",
      "|          FDH17|       16.2|         Regular|    0.016687114|        Frozen Foods| 96.9726|           OUT045|                     2002|       NULL|              Tier 2|Supermarket Type1|        1076.5986|2025-08-19|2025-08-26|\n",
      "|          FDU28|       19.2|         Regular|     0.09444959|        Frozen Foods|187.8214|           OUT017|                     2007|       NULL|              Tier 2|Supermarket Type1|         4710.535|2025-08-19|2025-08-26|\n",
      "|          FDY07|       11.8|         Low Fat|            0.0|Fruits and Vegeta...| 45.5402|           OUT049|                     1999|     Medium|              Tier 1|Supermarket Type1|        1516.0266|2025-08-19|2025-08-26|\n",
      "|          FDA03|       18.5|         Regular|    0.045463773|               Dairy|144.1102|           OUT046|                     1997|      Small|              Tier 1|Supermarket Type1|         2187.153|2025-08-19|2025-08-26|\n",
      "|          FDX32|       15.1|         Regular|      0.1000135|Fruits and Vegeta...|145.4786|           OUT049|                     1999|     Medium|              Tier 1|Supermarket Type1|        1589.2646|2025-08-19|2025-08-26|\n",
      "|          FDS46|       17.6|         Regular|    0.047257328|         Snack Foods|119.6782|           OUT046|                     1997|      Small|              Tier 1|Supermarket Type1|        2145.2076|2025-08-19|2025-08-26|\n",
      "|          FDF32|      16.35|         Low Fat|      0.0680243|Fruits and Vegeta...|196.4426|           OUT013|                     1987|       High|              Tier 3|Supermarket Type1|         1977.426|2025-08-19|2025-08-26|\n",
      "|          FDP49|        9.0|         Regular|    0.069088961|           Breakfast| 56.3614|           OUT046|                     1997|      Small|              Tier 1|Supermarket Type1|        1547.3192|2025-08-19|2025-08-26|\n",
      "|          NCB42|       11.8|         Low Fat|    0.008596051|  Health and Hygiene|115.3492|           OUT018|                     2009|     Medium|              Tier 3|Supermarket Type2|        1621.8888|2025-08-19|2025-08-26|\n",
      "|          FDP49|        9.0|         Regular|    0.069196376|           Breakfast| 54.3614|           OUT049|                     1999|     Medium|              Tier 1|Supermarket Type1|         718.3982|2025-08-19|2025-08-26|\n",
      "|          DRI11|       NULL|         Low Fat|    0.034237682|         Hard Drinks|113.2834|           OUT027|                     1985|     Medium|              Tier 3|Supermarket Type3|         2303.668|2025-08-19|2025-08-26|\n",
      "|          FDU02|      13.35|         Low Fat|     0.10249212|               Dairy|230.5352|           OUT035|                     2004|      Small|              Tier 2|Supermarket Type1|        2748.4224|2025-08-19|2025-08-26|\n",
      "+---------------+-----------+----------------+---------------+--------------------+--------+-----------------+-------------------------+-----------+--------------------+-----------------+-----------------+----------+----------+\n",
      "only showing top 20 rows\n"
     ]
    }
   ],
   "source": [
    "# DATE_ADD()\n",
    "\n",
    "df = df.withColumn('week_after',date_add('curr_date',7))\n",
    "\n",
    "df.show()"
   ]
  },
  {
   "cell_type": "code",
   "execution_count": 42,
   "id": "a9fe2905-7557-4ea2-be9c-f780711b775f",
   "metadata": {},
   "outputs": [
    {
     "name": "stdout",
     "output_type": "stream",
     "text": [
      "+---------------+-----------+----------------+---------------+--------------------+--------+-----------------+-------------------------+-----------+--------------------+-----------------+-----------------+----------+----------+-----------+\n",
      "|Item_Identifier|Item_Weight|Item_Fat_Content|Item_Visibility|           Item_Type|Item_MRP|Outlet_Identifier|Outlet_Establishment_Year|Outlet_Size|Outlet_Location_Type|      Outlet_Type|Item_Outlet_Sales| curr_date|week_after|week_before|\n",
      "+---------------+-----------+----------------+---------------+--------------------+--------+-----------------+-------------------------+-----------+--------------------+-----------------+-----------------+----------+----------+-----------+\n",
      "|          FDA15|        9.3|         Low Fat|    0.016047301|               Dairy|249.8092|           OUT049|                     1999|     Medium|              Tier 1|Supermarket Type1|         3735.138|2025-08-19|2025-08-26| 2025-08-12|\n",
      "|          DRC01|       5.92|         Regular|    0.019278216|         Soft Drinks| 48.2692|           OUT018|                     2009|     Medium|              Tier 3|Supermarket Type2|         443.4228|2025-08-19|2025-08-26| 2025-08-12|\n",
      "|          FDN15|       17.5|         Low Fat|    0.016760075|                Meat| 141.618|           OUT049|                     1999|     Medium|              Tier 1|Supermarket Type1|          2097.27|2025-08-19|2025-08-26| 2025-08-12|\n",
      "|          FDX07|       19.2|         Regular|            0.0|Fruits and Vegeta...| 182.095|           OUT010|                     1998|       NULL|              Tier 3|    Grocery Store|           732.38|2025-08-19|2025-08-26| 2025-08-12|\n",
      "|          NCD19|       8.93|         Low Fat|            0.0|           Household| 53.8614|           OUT013|                     1987|       High|              Tier 3|Supermarket Type1|         994.7052|2025-08-19|2025-08-26| 2025-08-12|\n",
      "|          FDP36|     10.395|         Regular|            0.0|        Baking Goods| 51.4008|           OUT018|                     2009|     Medium|              Tier 3|Supermarket Type2|         556.6088|2025-08-19|2025-08-26| 2025-08-12|\n",
      "|          FDO10|      13.65|         Regular|    0.012741089|         Snack Foods| 57.6588|           OUT013|                     1987|       High|              Tier 3|Supermarket Type1|         343.5528|2025-08-19|2025-08-26| 2025-08-12|\n",
      "|          FDP10|       NULL|         Low Fat|    0.127469857|         Snack Foods|107.7622|           OUT027|                     1985|     Medium|              Tier 3|Supermarket Type3|        4022.7636|2025-08-19|2025-08-26| 2025-08-12|\n",
      "|          FDH17|       16.2|         Regular|    0.016687114|        Frozen Foods| 96.9726|           OUT045|                     2002|       NULL|              Tier 2|Supermarket Type1|        1076.5986|2025-08-19|2025-08-26| 2025-08-12|\n",
      "|          FDU28|       19.2|         Regular|     0.09444959|        Frozen Foods|187.8214|           OUT017|                     2007|       NULL|              Tier 2|Supermarket Type1|         4710.535|2025-08-19|2025-08-26| 2025-08-12|\n",
      "|          FDY07|       11.8|         Low Fat|            0.0|Fruits and Vegeta...| 45.5402|           OUT049|                     1999|     Medium|              Tier 1|Supermarket Type1|        1516.0266|2025-08-19|2025-08-26| 2025-08-12|\n",
      "|          FDA03|       18.5|         Regular|    0.045463773|               Dairy|144.1102|           OUT046|                     1997|      Small|              Tier 1|Supermarket Type1|         2187.153|2025-08-19|2025-08-26| 2025-08-12|\n",
      "|          FDX32|       15.1|         Regular|      0.1000135|Fruits and Vegeta...|145.4786|           OUT049|                     1999|     Medium|              Tier 1|Supermarket Type1|        1589.2646|2025-08-19|2025-08-26| 2025-08-12|\n",
      "|          FDS46|       17.6|         Regular|    0.047257328|         Snack Foods|119.6782|           OUT046|                     1997|      Small|              Tier 1|Supermarket Type1|        2145.2076|2025-08-19|2025-08-26| 2025-08-12|\n",
      "|          FDF32|      16.35|         Low Fat|      0.0680243|Fruits and Vegeta...|196.4426|           OUT013|                     1987|       High|              Tier 3|Supermarket Type1|         1977.426|2025-08-19|2025-08-26| 2025-08-12|\n",
      "|          FDP49|        9.0|         Regular|    0.069088961|           Breakfast| 56.3614|           OUT046|                     1997|      Small|              Tier 1|Supermarket Type1|        1547.3192|2025-08-19|2025-08-26| 2025-08-12|\n",
      "|          NCB42|       11.8|         Low Fat|    0.008596051|  Health and Hygiene|115.3492|           OUT018|                     2009|     Medium|              Tier 3|Supermarket Type2|        1621.8888|2025-08-19|2025-08-26| 2025-08-12|\n",
      "|          FDP49|        9.0|         Regular|    0.069196376|           Breakfast| 54.3614|           OUT049|                     1999|     Medium|              Tier 1|Supermarket Type1|         718.3982|2025-08-19|2025-08-26| 2025-08-12|\n",
      "|          DRI11|       NULL|         Low Fat|    0.034237682|         Hard Drinks|113.2834|           OUT027|                     1985|     Medium|              Tier 3|Supermarket Type3|         2303.668|2025-08-19|2025-08-26| 2025-08-12|\n",
      "|          FDU02|      13.35|         Low Fat|     0.10249212|               Dairy|230.5352|           OUT035|                     2004|      Small|              Tier 2|Supermarket Type1|        2748.4224|2025-08-19|2025-08-26| 2025-08-12|\n",
      "+---------------+-----------+----------------+---------------+--------------------+--------+-----------------+-------------------------+-----------+--------------------+-----------------+-----------------+----------+----------+-----------+\n",
      "only showing top 20 rows\n"
     ]
    }
   ],
   "source": [
    "# DATE_SUB()\n",
    "\n",
    "df = df.withColumn('week_before',date_sub('curr_date',7))\n",
    "df.show()\n",
    "\n",
    "# Equivalent with DATE_ADD()\n",
    "# df.withColumn('week_before',date_add('curr_date',-7)).show()"
   ]
  },
  {
   "cell_type": "code",
   "execution_count": 43,
   "id": "0ac835c5-de80-41fe-aedb-bdce7eb01c48",
   "metadata": {},
   "outputs": [
    {
     "name": "stdout",
     "output_type": "stream",
     "text": [
      "+---------------+-----------+----------------+---------------+--------------------+--------+-----------------+-------------------------+-----------+--------------------+-----------------+-----------------+----------+----------+-----------+--------+\n",
      "|Item_Identifier|Item_Weight|Item_Fat_Content|Item_Visibility|           Item_Type|Item_MRP|Outlet_Identifier|Outlet_Establishment_Year|Outlet_Size|Outlet_Location_Type|      Outlet_Type|Item_Outlet_Sales| curr_date|week_after|week_before|datediff|\n",
      "+---------------+-----------+----------------+---------------+--------------------+--------+-----------------+-------------------------+-----------+--------------------+-----------------+-----------------+----------+----------+-----------+--------+\n",
      "|          FDA15|        9.3|         Low Fat|    0.016047301|               Dairy|249.8092|           OUT049|                     1999|     Medium|              Tier 1|Supermarket Type1|         3735.138|2025-08-19|2025-08-26| 2025-08-12|       7|\n",
      "|          DRC01|       5.92|         Regular|    0.019278216|         Soft Drinks| 48.2692|           OUT018|                     2009|     Medium|              Tier 3|Supermarket Type2|         443.4228|2025-08-19|2025-08-26| 2025-08-12|       7|\n",
      "|          FDN15|       17.5|         Low Fat|    0.016760075|                Meat| 141.618|           OUT049|                     1999|     Medium|              Tier 1|Supermarket Type1|          2097.27|2025-08-19|2025-08-26| 2025-08-12|       7|\n",
      "|          FDX07|       19.2|         Regular|            0.0|Fruits and Vegeta...| 182.095|           OUT010|                     1998|       NULL|              Tier 3|    Grocery Store|           732.38|2025-08-19|2025-08-26| 2025-08-12|       7|\n",
      "|          NCD19|       8.93|         Low Fat|            0.0|           Household| 53.8614|           OUT013|                     1987|       High|              Tier 3|Supermarket Type1|         994.7052|2025-08-19|2025-08-26| 2025-08-12|       7|\n",
      "|          FDP36|     10.395|         Regular|            0.0|        Baking Goods| 51.4008|           OUT018|                     2009|     Medium|              Tier 3|Supermarket Type2|         556.6088|2025-08-19|2025-08-26| 2025-08-12|       7|\n",
      "|          FDO10|      13.65|         Regular|    0.012741089|         Snack Foods| 57.6588|           OUT013|                     1987|       High|              Tier 3|Supermarket Type1|         343.5528|2025-08-19|2025-08-26| 2025-08-12|       7|\n",
      "|          FDP10|       NULL|         Low Fat|    0.127469857|         Snack Foods|107.7622|           OUT027|                     1985|     Medium|              Tier 3|Supermarket Type3|        4022.7636|2025-08-19|2025-08-26| 2025-08-12|       7|\n",
      "|          FDH17|       16.2|         Regular|    0.016687114|        Frozen Foods| 96.9726|           OUT045|                     2002|       NULL|              Tier 2|Supermarket Type1|        1076.5986|2025-08-19|2025-08-26| 2025-08-12|       7|\n",
      "|          FDU28|       19.2|         Regular|     0.09444959|        Frozen Foods|187.8214|           OUT017|                     2007|       NULL|              Tier 2|Supermarket Type1|         4710.535|2025-08-19|2025-08-26| 2025-08-12|       7|\n",
      "|          FDY07|       11.8|         Low Fat|            0.0|Fruits and Vegeta...| 45.5402|           OUT049|                     1999|     Medium|              Tier 1|Supermarket Type1|        1516.0266|2025-08-19|2025-08-26| 2025-08-12|       7|\n",
      "|          FDA03|       18.5|         Regular|    0.045463773|               Dairy|144.1102|           OUT046|                     1997|      Small|              Tier 1|Supermarket Type1|         2187.153|2025-08-19|2025-08-26| 2025-08-12|       7|\n",
      "|          FDX32|       15.1|         Regular|      0.1000135|Fruits and Vegeta...|145.4786|           OUT049|                     1999|     Medium|              Tier 1|Supermarket Type1|        1589.2646|2025-08-19|2025-08-26| 2025-08-12|       7|\n",
      "|          FDS46|       17.6|         Regular|    0.047257328|         Snack Foods|119.6782|           OUT046|                     1997|      Small|              Tier 1|Supermarket Type1|        2145.2076|2025-08-19|2025-08-26| 2025-08-12|       7|\n",
      "|          FDF32|      16.35|         Low Fat|      0.0680243|Fruits and Vegeta...|196.4426|           OUT013|                     1987|       High|              Tier 3|Supermarket Type1|         1977.426|2025-08-19|2025-08-26| 2025-08-12|       7|\n",
      "|          FDP49|        9.0|         Regular|    0.069088961|           Breakfast| 56.3614|           OUT046|                     1997|      Small|              Tier 1|Supermarket Type1|        1547.3192|2025-08-19|2025-08-26| 2025-08-12|       7|\n",
      "|          NCB42|       11.8|         Low Fat|    0.008596051|  Health and Hygiene|115.3492|           OUT018|                     2009|     Medium|              Tier 3|Supermarket Type2|        1621.8888|2025-08-19|2025-08-26| 2025-08-12|       7|\n",
      "|          FDP49|        9.0|         Regular|    0.069196376|           Breakfast| 54.3614|           OUT049|                     1999|     Medium|              Tier 1|Supermarket Type1|         718.3982|2025-08-19|2025-08-26| 2025-08-12|       7|\n",
      "|          DRI11|       NULL|         Low Fat|    0.034237682|         Hard Drinks|113.2834|           OUT027|                     1985|     Medium|              Tier 3|Supermarket Type3|         2303.668|2025-08-19|2025-08-26| 2025-08-12|       7|\n",
      "|          FDU02|      13.35|         Low Fat|     0.10249212|               Dairy|230.5352|           OUT035|                     2004|      Small|              Tier 2|Supermarket Type1|        2748.4224|2025-08-19|2025-08-26| 2025-08-12|       7|\n",
      "+---------------+-----------+----------------+---------------+--------------------+--------+-----------------+-------------------------+-----------+--------------------+-----------------+-----------------+----------+----------+-----------+--------+\n",
      "only showing top 20 rows\n"
     ]
    }
   ],
   "source": [
    "# DATEDIFF\n",
    "\n",
    "df = df.withColumn('datediff',datediff('week_after','curr_date'))\n",
    "df.show()"
   ]
  },
  {
   "cell_type": "code",
   "execution_count": 44,
   "id": "c1f2c481-4ec9-4576-b8f4-7661dbbc1c2f",
   "metadata": {},
   "outputs": [
    {
     "name": "stdout",
     "output_type": "stream",
     "text": [
      "+---------------+-----------+----------------+---------------+--------------------+--------+-----------------+-------------------------+-----------+--------------------+-----------------+-----------------+----------+----------+-----------+--------+\n",
      "|Item_Identifier|Item_Weight|Item_Fat_Content|Item_Visibility|           Item_Type|Item_MRP|Outlet_Identifier|Outlet_Establishment_Year|Outlet_Size|Outlet_Location_Type|      Outlet_Type|Item_Outlet_Sales| curr_date|week_after|week_before|datediff|\n",
      "+---------------+-----------+----------------+---------------+--------------------+--------+-----------------+-------------------------+-----------+--------------------+-----------------+-----------------+----------+----------+-----------+--------+\n",
      "|          FDA15|        9.3|         Low Fat|    0.016047301|               Dairy|249.8092|           OUT049|                     1999|     Medium|              Tier 1|Supermarket Type1|         3735.138|2025-08-19|2025-08-26| 12-08-2025|       7|\n",
      "|          DRC01|       5.92|         Regular|    0.019278216|         Soft Drinks| 48.2692|           OUT018|                     2009|     Medium|              Tier 3|Supermarket Type2|         443.4228|2025-08-19|2025-08-26| 12-08-2025|       7|\n",
      "|          FDN15|       17.5|         Low Fat|    0.016760075|                Meat| 141.618|           OUT049|                     1999|     Medium|              Tier 1|Supermarket Type1|          2097.27|2025-08-19|2025-08-26| 12-08-2025|       7|\n",
      "|          FDX07|       19.2|         Regular|            0.0|Fruits and Vegeta...| 182.095|           OUT010|                     1998|       NULL|              Tier 3|    Grocery Store|           732.38|2025-08-19|2025-08-26| 12-08-2025|       7|\n",
      "|          NCD19|       8.93|         Low Fat|            0.0|           Household| 53.8614|           OUT013|                     1987|       High|              Tier 3|Supermarket Type1|         994.7052|2025-08-19|2025-08-26| 12-08-2025|       7|\n",
      "|          FDP36|     10.395|         Regular|            0.0|        Baking Goods| 51.4008|           OUT018|                     2009|     Medium|              Tier 3|Supermarket Type2|         556.6088|2025-08-19|2025-08-26| 12-08-2025|       7|\n",
      "|          FDO10|      13.65|         Regular|    0.012741089|         Snack Foods| 57.6588|           OUT013|                     1987|       High|              Tier 3|Supermarket Type1|         343.5528|2025-08-19|2025-08-26| 12-08-2025|       7|\n",
      "|          FDP10|       NULL|         Low Fat|    0.127469857|         Snack Foods|107.7622|           OUT027|                     1985|     Medium|              Tier 3|Supermarket Type3|        4022.7636|2025-08-19|2025-08-26| 12-08-2025|       7|\n",
      "|          FDH17|       16.2|         Regular|    0.016687114|        Frozen Foods| 96.9726|           OUT045|                     2002|       NULL|              Tier 2|Supermarket Type1|        1076.5986|2025-08-19|2025-08-26| 12-08-2025|       7|\n",
      "|          FDU28|       19.2|         Regular|     0.09444959|        Frozen Foods|187.8214|           OUT017|                     2007|       NULL|              Tier 2|Supermarket Type1|         4710.535|2025-08-19|2025-08-26| 12-08-2025|       7|\n",
      "|          FDY07|       11.8|         Low Fat|            0.0|Fruits and Vegeta...| 45.5402|           OUT049|                     1999|     Medium|              Tier 1|Supermarket Type1|        1516.0266|2025-08-19|2025-08-26| 12-08-2025|       7|\n",
      "|          FDA03|       18.5|         Regular|    0.045463773|               Dairy|144.1102|           OUT046|                     1997|      Small|              Tier 1|Supermarket Type1|         2187.153|2025-08-19|2025-08-26| 12-08-2025|       7|\n",
      "|          FDX32|       15.1|         Regular|      0.1000135|Fruits and Vegeta...|145.4786|           OUT049|                     1999|     Medium|              Tier 1|Supermarket Type1|        1589.2646|2025-08-19|2025-08-26| 12-08-2025|       7|\n",
      "|          FDS46|       17.6|         Regular|    0.047257328|         Snack Foods|119.6782|           OUT046|                     1997|      Small|              Tier 1|Supermarket Type1|        2145.2076|2025-08-19|2025-08-26| 12-08-2025|       7|\n",
      "|          FDF32|      16.35|         Low Fat|      0.0680243|Fruits and Vegeta...|196.4426|           OUT013|                     1987|       High|              Tier 3|Supermarket Type1|         1977.426|2025-08-19|2025-08-26| 12-08-2025|       7|\n",
      "|          FDP49|        9.0|         Regular|    0.069088961|           Breakfast| 56.3614|           OUT046|                     1997|      Small|              Tier 1|Supermarket Type1|        1547.3192|2025-08-19|2025-08-26| 12-08-2025|       7|\n",
      "|          NCB42|       11.8|         Low Fat|    0.008596051|  Health and Hygiene|115.3492|           OUT018|                     2009|     Medium|              Tier 3|Supermarket Type2|        1621.8888|2025-08-19|2025-08-26| 12-08-2025|       7|\n",
      "|          FDP49|        9.0|         Regular|    0.069196376|           Breakfast| 54.3614|           OUT049|                     1999|     Medium|              Tier 1|Supermarket Type1|         718.3982|2025-08-19|2025-08-26| 12-08-2025|       7|\n",
      "|          DRI11|       NULL|         Low Fat|    0.034237682|         Hard Drinks|113.2834|           OUT027|                     1985|     Medium|              Tier 3|Supermarket Type3|         2303.668|2025-08-19|2025-08-26| 12-08-2025|       7|\n",
      "|          FDU02|      13.35|         Low Fat|     0.10249212|               Dairy|230.5352|           OUT035|                     2004|      Small|              Tier 2|Supermarket Type1|        2748.4224|2025-08-19|2025-08-26| 12-08-2025|       7|\n",
      "+---------------+-----------+----------------+---------------+--------------------+--------+-----------------+-------------------------+-----------+--------------------+-----------------+-----------------+----------+----------+-----------+--------+\n",
      "only showing top 20 rows\n"
     ]
    }
   ],
   "source": [
    "# DATE_FORMAT()\n",
    "\n",
    "df = df.withColumn('week_before',date_format('week_before','dd-MM-yyyy'))\n",
    "df.show()"
   ]
  },
  {
   "cell_type": "code",
   "execution_count": 50,
   "id": "8b5f5768-45ce-4e43-a04a-77df0d888203",
   "metadata": {},
   "outputs": [],
   "source": [
    "# Null Handling\n",
    "\n",
    "# Dropping Nulls\n",
    "# df.count()\n",
    "# df.dropna('all').count() # Drop rows when all columns are NULL \n",
    "# df.dropna('any').count() # Drop rows when any columns are NULL \n",
    "# df.dropna(subset=['Outlet_Size']).count() # Drop rows when specific columns are NULL "
   ]
  },
  {
   "cell_type": "code",
   "execution_count": 51,
   "id": "c3ba65ae-0445-46fd-b18a-40becb54c296",
   "metadata": {},
   "outputs": [],
   "source": [
    "# Fill Nulls\n",
    "# df.show()\n",
    "# df.fillna('NotAvailable').show() # Replace all NULLs with value\n",
    "# df.fillna('NotAvailable',subset=['Outlet_Size']).show() # Replace all NULLs in specific columns with value"
   ]
  },
  {
   "cell_type": "code",
   "execution_count": 69,
   "id": "1013b41f-d0f7-4269-875c-dc6386c4b30c",
   "metadata": {},
   "outputs": [
    {
     "name": "stdout",
     "output_type": "stream",
     "text": [
      "+--------------------+-----------------+\n",
      "|Outlet_Location_Type|      Outlet_Type|\n",
      "+--------------------+-----------------+\n",
      "|              Tier 1|Supermarket Type1|\n",
      "|              Tier 3|Supermarket Type2|\n",
      "|              Tier 1|Supermarket Type1|\n",
      "|              Tier 3|    Grocery Store|\n",
      "|              Tier 3|Supermarket Type1|\n",
      "|              Tier 3|Supermarket Type2|\n",
      "|              Tier 3|Supermarket Type1|\n",
      "|              Tier 3|Supermarket Type3|\n",
      "|              Tier 2|Supermarket Type1|\n",
      "|              Tier 2|Supermarket Type1|\n",
      "+--------------------+-----------------+\n",
      "\n",
      "+--------------------+--------------------+\n",
      "|Outlet_Location_Type|         Outlet_Type|\n",
      "+--------------------+--------------------+\n",
      "|              Tier 1|[Supermarket, Type1]|\n",
      "|              Tier 3|[Supermarket, Type2]|\n",
      "|              Tier 1|[Supermarket, Type1]|\n",
      "|              Tier 3|    [Grocery, Store]|\n",
      "|              Tier 3|[Supermarket, Type1]|\n",
      "|              Tier 3|[Supermarket, Type2]|\n",
      "|              Tier 3|[Supermarket, Type1]|\n",
      "|              Tier 3|[Supermarket, Type3]|\n",
      "|              Tier 2|[Supermarket, Type1]|\n",
      "|              Tier 2|[Supermarket, Type1]|\n",
      "+--------------------+--------------------+\n",
      "\n"
     ]
    }
   ],
   "source": [
    "# Split and Indexing\n",
    "\n",
    "# Split\n",
    "df = spark.read.format('csv').option('inferSchema',True).option('header',True).load('BigMart_Sales.csv')\n",
    "df.select(col('Outlet_Location_Type'), col('Outlet_Type')).limit(10).show()\n",
    "df.withColumn('Outlet_Type',split('Outlet_Type',' ')).select(col('Outlet_Location_Type'), col('Outlet_Type')).limit(10).show()"
   ]
  },
  {
   "cell_type": "code",
   "execution_count": 70,
   "id": "95e29050-75ef-4a10-97ec-001438f916ee",
   "metadata": {},
   "outputs": [
    {
     "name": "stdout",
     "output_type": "stream",
     "text": [
      "+--------------------+-----------------+\n",
      "|Outlet_Location_Type|      Outlet_Type|\n",
      "+--------------------+-----------------+\n",
      "|              Tier 1|Supermarket Type1|\n",
      "|              Tier 3|Supermarket Type2|\n",
      "|              Tier 1|Supermarket Type1|\n",
      "|              Tier 3|    Grocery Store|\n",
      "|              Tier 3|Supermarket Type1|\n",
      "|              Tier 3|Supermarket Type2|\n",
      "|              Tier 3|Supermarket Type1|\n",
      "|              Tier 3|Supermarket Type3|\n",
      "|              Tier 2|Supermarket Type1|\n",
      "|              Tier 2|Supermarket Type1|\n",
      "+--------------------+-----------------+\n",
      "\n",
      "+--------------------+-----------+\n",
      "|Outlet_Location_Type|Outlet_Type|\n",
      "+--------------------+-----------+\n",
      "|              Tier 1|      Type1|\n",
      "|              Tier 3|      Type2|\n",
      "|              Tier 1|      Type1|\n",
      "|              Tier 3|      Store|\n",
      "|              Tier 3|      Type1|\n",
      "|              Tier 3|      Type2|\n",
      "|              Tier 3|      Type1|\n",
      "|              Tier 3|      Type3|\n",
      "|              Tier 2|      Type1|\n",
      "|              Tier 2|      Type1|\n",
      "+--------------------+-----------+\n",
      "\n"
     ]
    }
   ],
   "source": [
    "# Index\n",
    "df = spark.read.format('csv').option('inferSchema',True).option('header',True).load('BigMart_Sales.csv')\n",
    "df.select(col('Outlet_Location_Type'), col('Outlet_Type')).limit(10).show()\n",
    "df.withColumn('Outlet_Type',split('Outlet_Type',' ')[1]).select(col('Outlet_Location_Type'), col('Outlet_Type')).limit(10).show()"
   ]
  },
  {
   "cell_type": "code",
   "execution_count": 75,
   "id": "a4869057-ec1b-4060-9966-66f060e9f6c1",
   "metadata": {},
   "outputs": [
    {
     "name": "stdout",
     "output_type": "stream",
     "text": [
      "+--------------------+-----------------+\n",
      "|Outlet_Location_Type|      Outlet_Type|\n",
      "+--------------------+-----------------+\n",
      "|              Tier 1|Supermarket Type1|\n",
      "|              Tier 3|Supermarket Type2|\n",
      "|              Tier 1|Supermarket Type1|\n",
      "|              Tier 3|    Grocery Store|\n",
      "|              Tier 3|Supermarket Type1|\n",
      "|              Tier 3|Supermarket Type2|\n",
      "|              Tier 3|Supermarket Type1|\n",
      "|              Tier 3|Supermarket Type3|\n",
      "|              Tier 2|Supermarket Type1|\n",
      "|              Tier 2|Supermarket Type1|\n",
      "+--------------------+-----------------+\n",
      "\n",
      "+--------------------+--------------------+\n",
      "|Outlet_Location_Type|         Outlet_Type|\n",
      "+--------------------+--------------------+\n",
      "|              Tier 1|[Supermarket, Type1]|\n",
      "|              Tier 3|[Supermarket, Type2]|\n",
      "|              Tier 1|[Supermarket, Type1]|\n",
      "|              Tier 3|    [Grocery, Store]|\n",
      "|              Tier 3|[Supermarket, Type1]|\n",
      "|              Tier 3|[Supermarket, Type2]|\n",
      "|              Tier 3|[Supermarket, Type1]|\n",
      "|              Tier 3|[Supermarket, Type3]|\n",
      "|              Tier 2|[Supermarket, Type1]|\n",
      "|              Tier 2|[Supermarket, Type1]|\n",
      "+--------------------+--------------------+\n",
      "\n",
      "+--------------------+-----------+\n",
      "|Outlet_Location_Type|Outlet_Type|\n",
      "+--------------------+-----------+\n",
      "|              Tier 1|Supermarket|\n",
      "|              Tier 1|      Type1|\n",
      "|              Tier 3|Supermarket|\n",
      "|              Tier 3|      Type2|\n",
      "|              Tier 1|Supermarket|\n",
      "|              Tier 1|      Type1|\n",
      "|              Tier 3|    Grocery|\n",
      "|              Tier 3|      Store|\n",
      "|              Tier 3|Supermarket|\n",
      "|              Tier 3|      Type1|\n",
      "+--------------------+-----------+\n",
      "\n"
     ]
    }
   ],
   "source": [
    "# EXPLODE\n",
    "\n",
    "df = spark.read.format('csv').option('inferSchema',True).option('header',True).load('BigMart_Sales.csv')\n",
    "df.select(col('Outlet_Location_Type'), col('Outlet_Type')).limit(10).show()\n",
    "\n",
    "df_exp = df.withColumn('Outlet_Type',split('Outlet_Type',' '))\n",
    "\n",
    "df_exp.select(col('Outlet_Location_Type'), col('Outlet_Type')).limit(10).show()\n",
    "df_exp.withColumn('Outlet_Type',explode('Outlet_Type')).select(col('Outlet_Location_Type'), col('Outlet_Type')).limit(10).show()"
   ]
  },
  {
   "cell_type": "code",
   "execution_count": 74,
   "id": "16be570c-7f1b-49c2-9a56-ce7ac05c2956",
   "metadata": {},
   "outputs": [
    {
     "name": "stdout",
     "output_type": "stream",
     "text": [
      "+--------------------+--------------------+----------+\n",
      "|Outlet_Location_Type|         Outlet_Type|Type1_flag|\n",
      "+--------------------+--------------------+----------+\n",
      "|              Tier 1|[Supermarket, Type1]|      true|\n",
      "|              Tier 3|[Supermarket, Type2]|     false|\n",
      "|              Tier 1|[Supermarket, Type1]|      true|\n",
      "|              Tier 3|    [Grocery, Store]|     false|\n",
      "|              Tier 3|[Supermarket, Type1]|      true|\n",
      "|              Tier 3|[Supermarket, Type2]|     false|\n",
      "|              Tier 3|[Supermarket, Type1]|      true|\n",
      "|              Tier 3|[Supermarket, Type3]|     false|\n",
      "|              Tier 2|[Supermarket, Type1]|      true|\n",
      "|              Tier 2|[Supermarket, Type1]|      true|\n",
      "+--------------------+--------------------+----------+\n",
      "\n"
     ]
    }
   ],
   "source": [
    "# Array_Contains\n",
    "df = spark.read.format('csv').option('inferSchema',True).option('header',True).load('BigMart_Sales.csv')\n",
    "df_exp = df.withColumn('Outlet_Type',split('Outlet_Type',' '))\n",
    "df_exp.withColumn('Type1_flag',array_contains('Outlet_Type','Type1')).select(col('Outlet_Location_Type'), col('Outlet_Type'), col('Type1_flag')).limit(10).show()"
   ]
  },
  {
   "cell_type": "code",
   "execution_count": 78,
   "id": "65742aa5-dd72-4a14-a6f6-89dd21f328a7",
   "metadata": {},
   "outputs": [
    {
     "name": "stdout",
     "output_type": "stream",
     "text": [
      "+--------------------+------------------+\n",
      "|           Item_Type|     sum(Item_MRP)|\n",
      "+--------------------+------------------+\n",
      "|       Starchy Foods|21880.027399999995|\n",
      "|        Baking Goods| 81894.73640000001|\n",
      "|              Breads| 35379.11979999999|\n",
      "|Fruits and Vegeta...|178124.08099999998|\n",
      "|                Meat|59449.863799999956|\n",
      "|         Hard Drinks|29334.676599999995|\n",
      "|         Soft Drinks|58514.164999999964|\n",
      "|           Household|135976.52539999998|\n",
      "|           Breakfast|        15596.6966|\n",
      "|               Dairy|101276.45959999996|\n",
      "|         Snack Foods|175433.92040000003|\n",
      "|              Others|22451.891600000006|\n",
      "|             Seafood| 9077.870000000003|\n",
      "|              Canned|  90706.7269999999|\n",
      "|        Frozen Foods|118558.88140000001|\n",
      "|  Health and Hygiene|        68025.8388|\n",
      "+--------------------+------------------+\n",
      "\n"
     ]
    }
   ],
   "source": [
    "# GrouBy\n",
    "# Scenario 1 - Sum\n",
    "\n",
    "df = spark.read.format('csv').option('inferSchema',True).option('header',True).load('BigMart_Sales.csv')\n",
    "df.groupBy('Item_Type').agg(sum('Item_MRP')).show()"
   ]
  },
  {
   "cell_type": "code",
   "execution_count": 79,
   "id": "7bce32f9-e033-4d55-a6a7-f42d309e3b80",
   "metadata": {},
   "outputs": [
    {
     "name": "stdout",
     "output_type": "stream",
     "text": [
      "+--------------------+------------------+\n",
      "|           Item_Type|     avg(Item_MRP)|\n",
      "+--------------------+------------------+\n",
      "|       Starchy Foods|147.83802297297294|\n",
      "|        Baking Goods|126.38076604938273|\n",
      "|              Breads| 140.9526685258964|\n",
      "|Fruits and Vegeta...|144.58123457792206|\n",
      "|                Meat|139.88203247058814|\n",
      "|         Hard Drinks|137.07792803738315|\n",
      "|         Soft Drinks|131.49250561797746|\n",
      "|           Household|149.42475318681318|\n",
      "|           Breakfast|141.78815090909092|\n",
      "|               Dairy|148.49920762463336|\n",
      "|         Snack Foods|146.19493366666669|\n",
      "|              Others|132.85142958579885|\n",
      "|             Seafood|141.84171875000004|\n",
      "|              Canned|139.76383204930647|\n",
      "|        Frozen Foods|138.50336612149533|\n",
      "|  Health and Hygiene|130.81892076923077|\n",
      "+--------------------+------------------+\n",
      "\n"
     ]
    }
   ],
   "source": [
    "# Scenario 2 - Avg\n",
    "\n",
    "df.groupBy('Item_Type').agg(avg('Item_MRP')).show()"
   ]
  },
  {
   "cell_type": "code",
   "execution_count": 80,
   "id": "9f0c827d-1e76-4bea-a30c-69a3606ce35f",
   "metadata": {},
   "outputs": [
    {
     "name": "stdout",
     "output_type": "stream",
     "text": [
      "+--------------------+-----------+------------------+\n",
      "|           Item_Type|Outlet_Size|         Total_MRP|\n",
      "+--------------------+-----------+------------------+\n",
      "|       Starchy Foods|     Medium| 7124.136199999997|\n",
      "|Fruits and Vegeta...|     Medium|59047.217200000014|\n",
      "|       Starchy Foods|       NULL|         6040.6402|\n",
      "|              Breads|       NULL|        10011.5004|\n",
      "|        Baking Goods|       NULL|23433.838799999994|\n",
      "|Fruits and Vegeta...|       NULL|49758.730999999985|\n",
      "|        Frozen Foods|       High|12588.291000000001|\n",
      "|         Soft Drinks|       High| 6456.165199999999|\n",
      "|           Breakfast|      Small|3917.0407999999998|\n",
      "|                Meat|     Medium| 20326.45059999999|\n",
      "|Fruits and Vegeta...|       High| 20671.34759999999|\n",
      "|                Meat|       High| 5627.036400000002|\n",
      "|        Baking Goods|       High| 9431.749199999998|\n",
      "|           Household|     Medium| 42688.57439999998|\n",
      "|                Meat|       NULL|16158.166000000005|\n",
      "|         Hard Drinks|       NULL| 8869.577199999998|\n",
      "|         Hard Drinks|      Small|         6487.9392|\n",
      "|         Soft Drinks|       NULL|17745.318000000003|\n",
      "|           Household|       NULL| 38567.78840000001|\n",
      "|               Dairy|       High|12280.733799999996|\n",
      "+--------------------+-----------+------------------+\n",
      "only showing top 20 rows\n"
     ]
    }
   ],
   "source": [
    "# Scenario 3 - GroupBy Multiple Cols\n",
    "\n",
    "df.groupBy('Item_Type','Outlet_Size').agg(sum('Item_MRP').alias('Total_MRP')).show()"
   ]
  },
  {
   "cell_type": "code",
   "execution_count": null,
   "id": "aba75677-e54b-463c-aa34-b84304163a34",
   "metadata": {},
   "outputs": [
    {
     "name": "stdout",
     "output_type": "stream",
     "text": [
      "+--------------------+-----------+------------------+------------------+\n",
      "|           Item_Type|Outlet_Size|     sum(Item_MRP)|     avg(Item_MRP)|\n",
      "+--------------------+-----------+------------------+------------------+\n",
      "|       Starchy Foods|     Medium| 7124.136199999997| 148.4195041666666|\n",
      "|Fruits and Vegeta...|     Medium|59047.217200000014| 142.9714702179177|\n",
      "|       Starchy Foods|       NULL|         6040.6402|140.48000465116277|\n",
      "|              Breads|       NULL|        10011.5004|139.04861666666667|\n",
      "|        Baking Goods|       NULL|23433.838799999994|126.66939891891889|\n",
      "|Fruits and Vegeta...|       NULL|49758.730999999985|142.57516045845267|\n",
      "|        Frozen Foods|       High|12588.291000000001|         136.82925|\n",
      "|         Soft Drinks|       High| 6456.165199999999|131.75847346938772|\n",
      "|           Breakfast|      Small|3917.0407999999998|130.56802666666667|\n",
      "|                Meat|     Medium| 20326.45059999999|136.41913154362408|\n",
      "|Fruits and Vegeta...|       High| 20671.34759999999|145.57287042253515|\n",
      "|                Meat|       High| 5627.036400000002| 137.2447902439025|\n",
      "|        Baking Goods|       High| 9431.749199999998|129.20204383561642|\n",
      "|           Household|     Medium| 42688.57439999998|147.71133010380618|\n",
      "|                Meat|       NULL|16158.166000000005|139.29453448275865|\n",
      "|         Hard Drinks|       NULL| 8869.577199999998| 134.3875333333333|\n",
      "|         Hard Drinks|      Small|         6487.9392|        129.758784|\n",
      "|         Soft Drinks|       NULL|17745.318000000003|133.42344360902257|\n",
      "|           Household|       NULL| 38567.78840000001|147.76930421455944|\n",
      "|               Dairy|       High|12280.733799999996|153.50917249999995|\n",
      "+--------------------+-----------+------------------+------------------+\n",
      "only showing top 20 rows\n"
     ]
    }
   ],
   "source": [
    "# Scenario 4 - GroupBy Multiple Cols and Agg\n",
    "\n",
    "df.groupBy('Item_Type','Outlet_Size').agg(sum('Item_MRP'),avg('Item_MRP')).show()"
   ]
  }
 ],
 "metadata": {
  "kernelspec": {
   "display_name": "Python 3 (ipykernel)",
   "language": "python",
   "name": "python3"
  },
  "language_info": {
   "codemirror_mode": {
    "name": "ipython",
    "version": 3
   },
   "file_extension": ".py",
   "mimetype": "text/x-python",
   "name": "python",
   "nbconvert_exporter": "python",
   "pygments_lexer": "ipython3",
   "version": "3.12.11"
  }
 },
 "nbformat": 4,
 "nbformat_minor": 5
}
