{
 "cells": [
  {
   "cell_type": "code",
   "execution_count": 1,
   "id": "94356b78-7848-4689-a2f5-243defc796e2",
   "metadata": {},
   "outputs": [],
   "source": [
    "from pyspark.sql import SparkSession\n",
    "spark = SparkSession.builder.appName('Joins').getOrCreate()"
   ]
  },
  {
   "cell_type": "code",
   "execution_count": 2,
   "id": "7a573ffc-0083-42bb-81ae-7e567c3f35dc",
   "metadata": {},
   "outputs": [
    {
     "name": "stdout",
     "output_type": "stream",
     "text": [
      "+------+--------+-------+\n",
      "|emp_id|emp_name|dept_id|\n",
      "+------+--------+-------+\n",
      "|     1|    Guar|    d01|\n",
      "|     2|     Kit|    d02|\n",
      "|     3|     Sam|    d03|\n",
      "|     4|     Tim|    d03|\n",
      "|     5|    Aman|    d05|\n",
      "|     6|     Nad|    d06|\n",
      "+------+--------+-------+\n",
      "\n",
      "+-------+----------+\n",
      "|dept_id|department|\n",
      "+-------+----------+\n",
      "|    d01|        HR|\n",
      "|    d02| Marketing|\n",
      "|    d03|  Accounts|\n",
      "|    d04|        IT|\n",
      "|    d05|   Finance|\n",
      "+-------+----------+\n",
      "\n"
     ]
    }
   ],
   "source": [
    "data1 = [\n",
    "            ('1', 'Guar', 'd01'),\n",
    "            ('2', 'Kit', 'd02'),\n",
    "            ('3', 'Sam', 'd03'),\n",
    "            ('4', 'Tim', 'd03'),\n",
    "            ('5', 'Aman', 'd05'),\n",
    "            ('6', 'Nad', 'd06'),\n",
    "       ]\n",
    "\n",
    "schema1 = \"emp_id STRING, emp_name STRING, dept_id STRING\"\n",
    "\n",
    "df1 = spark.createDataFrame(data1,schema1)\n",
    "\n",
    "data2 = [\n",
    "            ('d01', 'HR'),\n",
    "            ('d02', 'Marketing'),\n",
    "            ('d03', 'Accounts'),\n",
    "            ('d04', 'IT'),\n",
    "            ('d05', 'Finance'),\n",
    "       ]\n",
    "\n",
    "schema2 = \"dept_id STRING, department STRING\"\n",
    "\n",
    "df2 = spark.createDataFrame(data2,schema2)\n",
    "\n",
    "df1.show()\n",
    "df2.show()"
   ]
  },
  {
   "cell_type": "code",
   "execution_count": 11,
   "id": "c974b3db-0d6c-495f-b84b-437eceeaab68",
   "metadata": {},
   "outputs": [
    {
     "name": "stdout",
     "output_type": "stream",
     "text": [
      "+------+--------+-------+-------+----------+\n",
      "|emp_id|emp_name|dept_id|dept_id|department|\n",
      "+------+--------+-------+-------+----------+\n",
      "|     1|    Guar|    d01|    d01|        HR|\n",
      "|     2|     Kit|    d02|    d02| Marketing|\n",
      "|     3|     Sam|    d03|    d03|  Accounts|\n",
      "|     4|     Tim|    d03|    d03|  Accounts|\n",
      "|     5|    Aman|    d05|    d05|   Finance|\n",
      "+------+--------+-------+-------+----------+\n",
      "\n"
     ]
    }
   ],
   "source": [
    "# INNER JOIN\n",
    "df1.join(df2, df1['dept_id'] == df2['dept_id'], 'inner').show()"
   ]
  },
  {
   "cell_type": "code",
   "execution_count": 12,
   "id": "5fa96867-50a9-4704-a18d-e0964bf6cacf",
   "metadata": {},
   "outputs": [
    {
     "name": "stdout",
     "output_type": "stream",
     "text": [
      "+------+--------+-------+-------+----------+\n",
      "|emp_id|emp_name|dept_id|dept_id|department|\n",
      "+------+--------+-------+-------+----------+\n",
      "|     1|    Guar|    d01|    d01|        HR|\n",
      "|     2|     Kit|    d02|    d02| Marketing|\n",
      "|     3|     Sam|    d03|    d03|  Accounts|\n",
      "|     4|     Tim|    d03|    d03|  Accounts|\n",
      "|     5|    Aman|    d05|    d05|   Finance|\n",
      "|     6|     Nad|    d06|   NULL|      NULL|\n",
      "+------+--------+-------+-------+----------+\n",
      "\n"
     ]
    }
   ],
   "source": [
    "# LEFT JOIN\n",
    "df1.join(df2, df1['dept_id'] == df2['dept_id'], 'left').show()"
   ]
  },
  {
   "cell_type": "code",
   "execution_count": 13,
   "id": "8483a781-11f1-4945-97f7-789c9ba276d4",
   "metadata": {},
   "outputs": [
    {
     "name": "stdout",
     "output_type": "stream",
     "text": [
      "+------+--------+-------+-------+----------+\n",
      "|emp_id|emp_name|dept_id|dept_id|department|\n",
      "+------+--------+-------+-------+----------+\n",
      "|     1|    Guar|    d01|    d01|        HR|\n",
      "|     2|     Kit|    d02|    d02| Marketing|\n",
      "|     4|     Tim|    d03|    d03|  Accounts|\n",
      "|     3|     Sam|    d03|    d03|  Accounts|\n",
      "|  NULL|    NULL|   NULL|    d04|        IT|\n",
      "|     5|    Aman|    d05|    d05|   Finance|\n",
      "+------+--------+-------+-------+----------+\n",
      "\n"
     ]
    }
   ],
   "source": [
    "# RIGHT JOIN\n",
    "df1.join(df2, df1['dept_id'] == df2['dept_id'], 'right').show()"
   ]
  },
  {
   "cell_type": "code",
   "execution_count": 14,
   "id": "af76dd3d-07d3-4916-a1eb-7d782dcc10ec",
   "metadata": {},
   "outputs": [
    {
     "name": "stdout",
     "output_type": "stream",
     "text": [
      "+------+--------+-------+\n",
      "|emp_id|emp_name|dept_id|\n",
      "+------+--------+-------+\n",
      "|     6|     Nad|    d06|\n",
      "+------+--------+-------+\n",
      "\n"
     ]
    }
   ],
   "source": [
    "# INNER JOIN\n",
    "df1.join(df2, df1['dept_id'] == df2['dept_id'], 'anti').show()"
   ]
  }
 ],
 "metadata": {
  "kernelspec": {
   "display_name": "Python 3 (ipykernel)",
   "language": "python",
   "name": "python3"
  },
  "language_info": {
   "codemirror_mode": {
    "name": "ipython",
    "version": 3
   },
   "file_extension": ".py",
   "mimetype": "text/x-python",
   "name": "python",
   "nbconvert_exporter": "python",
   "pygments_lexer": "ipython3",
   "version": "3.12.11"
  }
 },
 "nbformat": 4,
 "nbformat_minor": 5
}
