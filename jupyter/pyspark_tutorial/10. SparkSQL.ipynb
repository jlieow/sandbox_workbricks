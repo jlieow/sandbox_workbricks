{
 "cells": [
  {
   "cell_type": "code",
   "execution_count": 1,
   "id": "0e379441-be5d-43c6-9b13-2593a48f4729",
   "metadata": {},
   "outputs": [],
   "source": [
    "from pyspark.sql import SparkSession\n",
    "spark = SparkSession.builder.appName('SparkSQL').getOrCreate()"
   ]
  },
  {
   "cell_type": "code",
   "execution_count": 2,
   "id": "6797b5e0-493e-47b1-9c73-dd5ae07455f2",
   "metadata": {},
   "outputs": [],
   "source": [
    "data = [\n",
    "            ('user1', 'book1'),\n",
    "            ('user1', 'book2'),\n",
    "            ('user2', 'book2'),\n",
    "            ('user2', 'book4'),\n",
    "            ('user3', 'book3')\n",
    "       ]\n",
    "\n",
    "schema = \"user string, book string\"\n",
    "\n",
    "df = spark.createDataFrame(data,schema)\n",
    "df.createTempView('my_view')"
   ]
  },
  {
   "cell_type": "code",
   "execution_count": 8,
   "id": "e7cf3c37-676e-4208-91e2-adf1a12e70f4",
   "metadata": {},
   "outputs": [
    {
     "name": "stdout",
     "output_type": "stream",
     "text": [
      "+-----+-----+\n",
      "| user| book|\n",
      "+-----+-----+\n",
      "|user1|book1|\n",
      "|user1|book2|\n",
      "+-----+-----+\n",
      "\n"
     ]
    }
   ],
   "source": [
    "df_sql = spark.sql(\"SELECT * FROM my_view WHERE user = 'user1'\")\n",
    "df_sql.show()"
   ]
  },
  {
   "cell_type": "code",
   "execution_count": null,
   "id": "06714f47-e891-4010-9b61-5e3bc9fe4337",
   "metadata": {},
   "outputs": [],
   "source": []
  }
 ],
 "metadata": {
  "kernelspec": {
   "display_name": "Python 3 (ipykernel)",
   "language": "python",
   "name": "python3"
  },
  "language_info": {
   "codemirror_mode": {
    "name": "ipython",
    "version": 3
   },
   "file_extension": ".py",
   "mimetype": "text/x-python",
   "name": "python",
   "nbconvert_exporter": "python",
   "pygments_lexer": "ipython3",
   "version": "3.12.11"
  }
 },
 "nbformat": 4,
 "nbformat_minor": 5
}
