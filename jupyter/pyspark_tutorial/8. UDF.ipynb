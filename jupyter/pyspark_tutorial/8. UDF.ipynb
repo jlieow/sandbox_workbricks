{
 "cells": [
  {
   "cell_type": "code",
   "execution_count": 2,
   "id": "71c1770c-94aa-416c-bb14-40d2fa1e7b77",
   "metadata": {},
   "outputs": [],
   "source": [
    "from pyspark.sql import SparkSession\n",
    "spark = SparkSession.builder.appName('UserDefinedFunctions').getOrCreate()"
   ]
  },
  {
   "cell_type": "code",
   "execution_count": 5,
   "id": "7aef7e88-1830-4928-bef2-3785162cf854",
   "metadata": {},
   "outputs": [],
   "source": [
    "from pyspark.sql.functions import udf\n",
    "\n",
    "def my_func(x):\n",
    "    return x*x\n",
    "\n",
    "my_udf = udf(my_func)"
   ]
  },
  {
   "cell_type": "code",
   "execution_count": 18,
   "id": "7923fbe6-faab-4628-907c-9d44d2daeb3f",
   "metadata": {},
   "outputs": [],
   "source": [
    "data1 = [\n",
    "            (1, 1),\n",
    "            (2, 2),\n",
    "            (3, 3),\n",
    "            (4, 4),\n",
    "            (5, 5),\n",
    "            (6, 6),\n",
    "       ]\n",
    "\n",
    "schema1 = \"id INTEGER, test INTEGER\"\n",
    "\n",
    "df1 = spark.createDataFrame(data1,schema1)"
   ]
  },
  {
   "cell_type": "code",
   "execution_count": 19,
   "id": "76d51f6b-6c6e-4d0f-abeb-48958cb8bc48",
   "metadata": {},
   "outputs": [
    {
     "name": "stdout",
     "output_type": "stream",
     "text": [
      "+---+----+-------+\n",
      "| id|test|udf_col|\n",
      "+---+----+-------+\n",
      "|  1|   1|      1|\n",
      "|  2|   2|      4|\n",
      "|  3|   3|      9|\n",
      "|  4|   4|     16|\n",
      "|  5|   5|     25|\n",
      "|  6|   6|     36|\n",
      "+---+----+-------+\n",
      "\n"
     ]
    }
   ],
   "source": [
    "df1.withColumn('udf_col', my_udf('test')).show()"
   ]
  },
  {
   "cell_type": "code",
   "execution_count": null,
   "id": "6d2c48c6-01f2-47e8-be19-0bfa07892157",
   "metadata": {},
   "outputs": [],
   "source": []
  }
 ],
 "metadata": {
  "kernelspec": {
   "display_name": "Python 3 (ipykernel)",
   "language": "python",
   "name": "python3"
  },
  "language_info": {
   "codemirror_mode": {
    "name": "ipython",
    "version": 3
   },
   "file_extension": ".py",
   "mimetype": "text/x-python",
   "name": "python",
   "nbconvert_exporter": "python",
   "pygments_lexer": "ipython3",
   "version": "3.12.11"
  }
 },
 "nbformat": 4,
 "nbformat_minor": 5
}
