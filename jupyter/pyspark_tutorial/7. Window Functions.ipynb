{
 "cells": [
  {
   "cell_type": "code",
   "execution_count": 1,
   "id": "355b3328-4298-4e8e-ab5b-5bfaade9bb1d",
   "metadata": {},
   "outputs": [],
   "source": [
    "from pyspark.sql import SparkSession\n",
    "spark = SparkSession.builder.appName('WindowFunctions').getOrCreate()"
   ]
  },
  {
   "cell_type": "code",
   "execution_count": null,
   "id": "cd350756-f507-4cb0-bcf0-0d6fe4c23fd9",
   "metadata": {},
   "outputs": [],
   "source": [
    "# WINDOW FUNCTIONS\n",
    "\n",
    "# ROW_NUMBER()\n",
    "\n",
    "from pyspark.sql.window import Window\n",
    "\n",
    "df = spark.read.format('csv').option('inferSchema',True).option('header',True).load('BigMart_Sales.csv')\n",
    "\n",
    "df.withColumn('rowCol',row_number().over(Window.orderBy('Item_Identifier'))).select(col('Item_Identifier'), col('rowCol')).show()"
   ]
  },
  {
   "cell_type": "code",
   "execution_count": null,
   "id": "9b83828d-6f43-438f-91d2-191c3012a61d",
   "metadata": {},
   "outputs": [],
   "source": [
    "# RANK VS DENSE RANK \n",
    "\n",
    "df.withColumn('rank',rank().over(Window.orderBy(col('Item_Identifier').desc())))\\\n",
    "        .withColumn('denseRank',dense_rank().over(Window.orderBy(col('Item_Identifier').desc())))\\\n",
    "        .select(col('Item_Identifier'), col('rank'), col('denseRank')).show()"
   ]
  },
  {
   "cell_type": "code",
   "execution_count": null,
   "id": "3e7e2705-7e70-4741-9f00-c0f52ecb4a63",
   "metadata": {},
   "outputs": [],
   "source": [
    "# Sum\n",
    "\n",
    "df.withColumn('sum',sum('Item_MRP').over(Window.orderBy('Item_Identifier').rowsBetween(Window.unboundedPreceding,Window.currentRow)))\\\n",
    "    .select(col('Item_Identifier'), col('Item_MRP'), col('sum')).show()"
   ]
  },
  {
   "cell_type": "code",
   "execution_count": null,
   "id": "fa6050e9-02d5-46bb-bd21-2d56dedb8c63",
   "metadata": {},
   "outputs": [],
   "source": [
    "# Window - Culmulative and Total Sum\n",
    "\n",
    "df.withColumn('culmulativeSum',sum('Item_MRP').over(Window.orderBy('Item_Type')))\\\n",
    "    .select(col('Item_Type'), col('Item_Identifier'), col('Item_MRP'), col('culmulativeSum')).show()\n",
    "\n",
    "df.withColumn('culmulativeSum',sum('Item_MRP').over(Window.orderBy('Item_Type')\\\n",
    "    .rowsBetween(Window.unboundedPreceding,Window.currentRow)))\\\n",
    "    .select(col('Item_Type'), col('Item_Identifier'), col('Item_MRP'), col('culmulativeSum')).show()\n",
    "\n",
    "df.withColumn('totalsum',sum('Item_MRP').over(Window.orderBy('Item_Type')\\\n",
    "    .rowsBetween(Window.unboundedPreceding,Window.unboundedFollowing)))\\\n",
    "    .select(col('Item_Type'), col('Item_Identifier'), col('Item_MRP'), col('totalsum')).show()"
   ]
  }
 ],
 "metadata": {
  "kernelspec": {
   "display_name": "Python 3 (ipykernel)",
   "language": "python",
   "name": "python3"
  },
  "language_info": {
   "codemirror_mode": {
    "name": "ipython",
    "version": 3
   },
   "file_extension": ".py",
   "mimetype": "text/x-python",
   "name": "python",
   "nbconvert_exporter": "python",
   "pygments_lexer": "ipython3",
   "version": "3.12.11"
  }
 },
 "nbformat": 4,
 "nbformat_minor": 5
}
