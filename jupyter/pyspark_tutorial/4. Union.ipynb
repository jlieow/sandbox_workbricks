{
 "cells": [
  {
   "cell_type": "code",
   "execution_count": 1,
   "id": "eb05df17-5c02-48e9-813e-31fc764a2e9b",
   "metadata": {},
   "outputs": [],
   "source": [
    "from pyspark.sql import SparkSession\n",
    "spark = SparkSession.builder.appName('Union').getOrCreate()"
   ]
  },
  {
   "cell_type": "code",
   "execution_count": 2,
   "id": "6a147484-2bf0-462e-9a07-96e9fddfdb16",
   "metadata": {},
   "outputs": [],
   "source": [
    "data1 = [('1','kad'),\n",
    "        ('2','sid')]\n",
    "schema1 = 'id STRING, name STRING' \n",
    "\n",
    "df1 = spark.createDataFrame(data1,schema1)\n",
    "\n",
    "data2 = [('3','rahul'),\n",
    "        ('4','jas')]\n",
    "schema2 = 'id STRING, name STRING' \n",
    "\n",
    "df2 = spark.createDataFrame(data2,schema2)"
   ]
  },
  {
   "cell_type": "code",
   "execution_count": 3,
   "id": "022a0a87-0f78-473c-9a07-ea055bf5253d",
   "metadata": {},
   "outputs": [
    {
     "name": "stdout",
     "output_type": "stream",
     "text": [
      "+---+----+\n",
      "| id|name|\n",
      "+---+----+\n",
      "|  1| kad|\n",
      "|  2| sid|\n",
      "+---+----+\n",
      "\n"
     ]
    }
   ],
   "source": [
    "df1.show()"
   ]
  },
  {
   "cell_type": "code",
   "execution_count": 4,
   "id": "e696417f-1f33-47be-8ac5-9631e22d1d60",
   "metadata": {},
   "outputs": [
    {
     "name": "stdout",
     "output_type": "stream",
     "text": [
      "+---+-----+\n",
      "| id| name|\n",
      "+---+-----+\n",
      "|  3|rahul|\n",
      "|  4|  jas|\n",
      "+---+-----+\n",
      "\n"
     ]
    }
   ],
   "source": [
    "df2.show()"
   ]
  },
  {
   "cell_type": "code",
   "execution_count": 6,
   "id": "9f848698-1d15-46ac-8f5f-bb6c8c7edb17",
   "metadata": {},
   "outputs": [
    {
     "name": "stdout",
     "output_type": "stream",
     "text": [
      "+---+-----+\n",
      "| id| name|\n",
      "+---+-----+\n",
      "|  1|  kad|\n",
      "|  2|  sid|\n",
      "|  3|rahul|\n",
      "|  4|  jas|\n",
      "+---+-----+\n",
      "\n"
     ]
    }
   ],
   "source": [
    "# UNION\n",
    "# union() method of the DataFrame is used to merge two DataFrame’s of the same structure/schema. \n",
    "# The output includes all rows from both DataFrames and duplicates are retained. If schemas are not the same it returns an error. \n",
    "# To deal with the DataFrames of different schemas we need to use unionByName() transformation. \n",
    "\n",
    "df1.union(df2).show()"
   ]
  },
  {
   "cell_type": "code",
   "execution_count": 9,
   "id": "1769dd6e-b0ec-498f-a2ee-be4061c4ca06",
   "metadata": {},
   "outputs": [
    {
     "name": "stdout",
     "output_type": "stream",
     "text": [
      "+----+-----+\n",
      "|name|   id|\n",
      "+----+-----+\n",
      "| kad|    1|\n",
      "| sid|    2|\n",
      "|   3|rahul|\n",
      "|   4|  jas|\n",
      "+----+-----+\n",
      "\n"
     ]
    }
   ],
   "source": [
    "# The output includes all rows from both DataFrames and duplicates are retained. If schemas are not the same it returns an error. \n",
    "# To deal with the DataFrames of different schemas we need to use unionByName() transformation. \n",
    "\n",
    "data1 = [('kad','1',),\n",
    "        ('sid','2',)]\n",
    "schema1 = 'name STRING, id STRING' \n",
    "\n",
    "df1 = spark.createDataFrame(data1,schema1)\n",
    "\n",
    "df1.union(df2).show()"
   ]
  },
  {
   "cell_type": "code",
   "execution_count": 11,
   "id": "cc9de57f-614a-449d-a623-0e189cf928e0",
   "metadata": {},
   "outputs": [
    {
     "name": "stdout",
     "output_type": "stream",
     "text": [
      "+-----+---+\n",
      "| name| id|\n",
      "+-----+---+\n",
      "|  kad|  1|\n",
      "|  sid|  2|\n",
      "|rahul|  3|\n",
      "|  jas|  4|\n",
      "+-----+---+\n",
      "\n"
     ]
    }
   ],
   "source": [
    "# The output includes all rows from both DataFrames and duplicates are retained. If schemas are not the same it returns an error. \n",
    "# To deal with the DataFrames of different schemas we need to use unionByName() transformation. \n",
    "\n",
    "df1.unionByName(df2).show()"
   ]
  }
 ],
 "metadata": {
  "kernelspec": {
   "display_name": "Python 3 (ipykernel)",
   "language": "python",
   "name": "python3"
  },
  "language_info": {
   "codemirror_mode": {
    "name": "ipython",
    "version": 3
   },
   "file_extension": ".py",
   "mimetype": "text/x-python",
   "name": "python",
   "nbconvert_exporter": "python",
   "pygments_lexer": "ipython3",
   "version": "3.12.11"
  }
 },
 "nbformat": 4,
 "nbformat_minor": 5
}
