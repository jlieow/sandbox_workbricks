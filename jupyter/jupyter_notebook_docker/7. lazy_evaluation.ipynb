{
 "cells": [
  {
   "cell_type": "code",
   "execution_count": null,
   "id": "204cfcd2-8463-41da-9715-05ac68286423",
   "metadata": {},
   "outputs": [],
   "source": [
    "from pyspark.sql import SparkSession\n",
    "spark = SparkSession.builder.appName('LazyEvaluation').getOrCreate()"
   ]
  },
  {
   "cell_type": "code",
   "execution_count": 3,
   "id": "fa4ac70a-d1d9-4049-bc63-492b454de344",
   "metadata": {},
   "outputs": [],
   "source": [
    "# Lazy Evaluation and Action\n",
    "from pyspark.sql import SparkSession\n",
    "from pyspark.sql.functions import *\n",
    "from pyspark.sql.types import *\n",
    "\n",
    "data = [\n",
    "    (\"Alice\", 25, \"New York\"),\n",
    "    (\"Bob\", 30, \"San Francisco\"),\n",
    "    (\"Charlie\", 35, \"Chicago\")\n",
    "]\n",
    "\n",
    "schema = StructType([\n",
    "    StructField(\"name\", StringType()),\n",
    "    StructField(\"age\", IntegerType()),\n",
    "    StructField(\"city\", StringType())\n",
    "])\n",
    "\n",
    "df = spark.createDataFrame(data, schema)"
   ]
  },
  {
   "cell_type": "code",
   "execution_count": 4,
   "id": "97447bdc-24d9-4372-b471-ef409394992a",
   "metadata": {},
   "outputs": [],
   "source": [
    "# In lazy evaluation, code is not immediately executed \n",
    "# It is placed in a plan for optimisation\n",
    "# Note that only a df object is instantiated\n",
    "df = df.filter(col(\"city\") == \"New York\")"
   ]
  },
  {
   "cell_type": "code",
   "execution_count": 5,
   "id": "fc275597-5bf5-481a-ad7e-74b2381fb7ec",
   "metadata": {},
   "outputs": [],
   "source": [
    "# Code is placed in a plan for optimisation\n",
    "# Note that only a df object is instantiated\n",
    "df = df.select(\"city\")"
   ]
  },
  {
   "cell_type": "code",
   "execution_count": 6,
   "id": "5fe60169-6226-4ce7-86e5-25497b5f7ef8",
   "metadata": {},
   "outputs": [
    {
     "data": {
      "text/plain": [
       "DataFrame[city: string]"
      ]
     },
     "metadata": {},
     "output_type": "display_data"
    }
   ],
   "source": [
    "# Code in the optimised execution plan is only executed when an action is run\n",
    "# Note that a job is created\n",
    "display(df)"
   ]
  },
  {
   "cell_type": "code",
   "execution_count": 7,
   "id": "dbf6e77a-19bc-43a3-9848-eae87df410cf",
   "metadata": {},
   "outputs": [
    {
     "name": "stdout",
     "output_type": "stream",
     "text": [
      "== Physical Plan ==\n",
      "*(1) Project [city#2]\n",
      "+- *(1) Filter (isnotnull(city#2) AND (city#2 = New York))\n",
      "   +- *(1) Scan ExistingRDD[name#0,age#1,city#2]\n",
      "\n",
      "\n"
     ]
    }
   ],
   "source": [
    "# You can see the execution plan via explain()\n",
    "df.explain()"
   ]
  },
  {
   "cell_type": "code",
   "execution_count": null,
   "id": "500326d8-e370-4ae9-a49c-ca566212cd58",
   "metadata": {},
   "outputs": [],
   "source": []
  }
 ],
 "metadata": {
  "kernelspec": {
   "display_name": "Python 3 (ipykernel)",
   "language": "python",
   "name": "python3"
  },
  "language_info": {
   "codemirror_mode": {
    "name": "ipython",
    "version": 3
   },
   "file_extension": ".py",
   "mimetype": "text/x-python",
   "name": "python",
   "nbconvert_exporter": "python",
   "pygments_lexer": "ipython3",
   "version": "3.12.11"
  }
 },
 "nbformat": 4,
 "nbformat_minor": 5
}
