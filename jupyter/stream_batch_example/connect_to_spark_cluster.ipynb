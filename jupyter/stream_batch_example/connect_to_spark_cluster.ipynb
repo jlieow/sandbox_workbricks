{
 "cells": [
  {
   "cell_type": "code",
   "execution_count": 5,
   "id": "697635e6-acef-4db1-b5f4-2b6f6bde43fa",
   "metadata": {
    "tags": []
   },
   "outputs": [
    {
     "data": {
      "text/html": [
       "\n",
       "            <div>\n",
       "                <p><b>SparkSession - in-memory</b></p>\n",
       "                \n",
       "        <div>\n",
       "            <p><b>SparkContext</b></p>\n",
       "\n",
       "            <p><a href=\"http://41ce0df184ee:4040\">Spark UI</a></p>\n",
       "\n",
       "            <dl>\n",
       "              <dt>Version</dt>\n",
       "                <dd><code>v4.0.1</code></dd>\n",
       "              <dt>Master</dt>\n",
       "                <dd><code>spark://e32a4604fcd1:7077</code></dd>\n",
       "              <dt>AppName</dt>\n",
       "                <dd><code>Cluster Execution</code></dd>\n",
       "            </dl>\n",
       "        </div>\n",
       "        \n",
       "            </div>\n",
       "        "
      ],
      "text/plain": [
       "<pyspark.sql.session.SparkSession at 0xffff5cfa70e0>"
      ]
     },
     "execution_count": 5,
     "metadata": {},
     "output_type": "execute_result"
    }
   ],
   "source": [
    "# Use the docker compose file which deploys Jupyter notebook, 1 Spark Master and 2 Spark Workers\n",
    "# Locate the Spark cluster endpoint at localhost:8080\n",
    "\n",
    "# Spark Session\n",
    "from pyspark.sql import SparkSession\n",
    "\n",
    "spark = (\n",
    "    SparkSession\n",
    "    .builder\n",
    "    .appName(\"Cluster Execution\")\n",
    "    .master(\"spark://e32a4604fcd1:7077\")\n",
    "    .config(\"spark.executor.instances\", 2) # Specifies the number of executor processes allocated to a Spark application\n",
    "    .config(\"spark.executor.cores\", 1) # The number of cores to use on each executor.\n",
    "    .config(\"spark.executor.memory\", \"512M\")\n",
    "    .getOrCreate()\n",
    ")\n",
    "\n",
    "spark"
   ]
  },
  {
   "cell_type": "code",
   "execution_count": 6,
   "id": "ab423b20-003c-442f-a663-d2895726dff9",
   "metadata": {
    "tags": []
   },
   "outputs": [],
   "source": [
    "# Create a sample data frame\n",
    "\n",
    "df = spark.range(10)"
   ]
  },
  {
   "cell_type": "code",
   "execution_count": 8,
   "id": "5be86d41-b20f-43f2-a5c3-607d15440507",
   "metadata": {
    "tags": []
   },
   "outputs": [],
   "source": [
    "# Write the data of the data frame\n",
    "\n",
    "df.write.format(\"csv\").option(\"header\", True).save(\"data/output/connect_to_spark_cluster/range.csv\")"
   ]
  },
  {
   "cell_type": "code",
   "execution_count": 10,
   "id": "08463ad4-4989-4a53-8a8d-9467800d34ad",
   "metadata": {
    "tags": []
   },
   "outputs": [],
   "source": [
    "# Stop Spark Settion\n",
    "\n",
    "spark.stop()"
   ]
  }
 ],
 "metadata": {
  "kernelspec": {
   "display_name": "Python 3 (ipykernel)",
   "language": "python",
   "name": "python3"
  },
  "language_info": {
   "codemirror_mode": {
    "name": "ipython",
    "version": 3
   },
   "file_extension": ".py",
   "mimetype": "text/x-python",
   "name": "python",
   "nbconvert_exporter": "python",
   "pygments_lexer": "ipython3",
   "version": "3.13.7"
  }
 },
 "nbformat": 4,
 "nbformat_minor": 5
}
