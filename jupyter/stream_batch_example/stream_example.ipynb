{
 "cells": [
  {
   "cell_type": "code",
   "execution_count": 1,
   "id": "3fca8f91-be42-4bd2-981f-edf0516a7f61",
   "metadata": {},
   "outputs": [
    {
     "data": {
      "text/html": [
       "\n",
       "            <div>\n",
       "                <p><b>SparkSession - in-memory</b></p>\n",
       "                \n",
       "        <div>\n",
       "            <p><b>SparkContext</b></p>\n",
       "\n",
       "            <p><a href=\"http://bc2cf9f2891f:4041\">Spark UI</a></p>\n",
       "\n",
       "            <dl>\n",
       "              <dt>Version</dt>\n",
       "                <dd><code>v4.0.1</code></dd>\n",
       "              <dt>Master</dt>\n",
       "                <dd><code>local[*]</code></dd>\n",
       "              <dt>AppName</dt>\n",
       "                <dd><code>Reading from Sockets</code></dd>\n",
       "            </dl>\n",
       "        </div>\n",
       "        \n",
       "            </div>\n",
       "        "
      ],
      "text/plain": [
       "<pyspark.sql.session.SparkSession at 0xffff7d43f0e0>"
      ]
     },
     "execution_count": 1,
     "metadata": {},
     "output_type": "execute_result"
    }
   ],
   "source": [
    "# Generate Spark Session\n",
    "from pyspark.sql import SparkSession\n",
    "\n",
    "spark = (\n",
    "    SparkSession\n",
    "    .builder\n",
    "    .appName(\"Reading from Sockets\")\n",
    "    .master(\"local[*]\")\n",
    "    .getOrCreate()\n",
    ")\n",
    "\n",
    "spark"
   ]
  },
  {
   "cell_type": "code",
   "execution_count": 2,
   "id": "68b8bacd-a3fc-42a5-8374-465ef44f03dd",
   "metadata": {},
   "outputs": [],
   "source": [
    "# Read input data\n",
    "\n",
    "df_raw = spark.readStream.format(\"socket\").option(\"host\",\"localhost\").option(\"port\", \"9999\").load()"
   ]
  },
  {
   "cell_type": "code",
   "execution_count": 3,
   "id": "b2e5bc4a-89ff-4638-a898-0912f6018dac",
   "metadata": {},
   "outputs": [
    {
     "name": "stdout",
     "output_type": "stream",
     "text": [
      "root\n",
      " |-- value: string (nullable = true)\n",
      "\n"
     ]
    }
   ],
   "source": [
    "df_raw.printSchema()"
   ]
  },
  {
   "cell_type": "code",
   "execution_count": 4,
   "id": "ad2a5bfd-85e4-42b0-997f-df9a9d8dcebf",
   "metadata": {},
   "outputs": [],
   "source": [
    "# Split the line into words\n",
    "from pyspark.sql.functions import split\n",
    "\n",
    "df_words = df_raw.withColumn(\"words\", split(df_raw[\"value\"], \" \"))"
   ]
  },
  {
   "cell_type": "code",
   "execution_count": 5,
   "id": "4dee7a07-a6a0-4066-85eb-879a2d278f50",
   "metadata": {},
   "outputs": [],
   "source": [
    "# Explode the list of words\n",
    "from pyspark.sql.functions import explode\n",
    "\n",
    "df_explode = df_words.withColumn(\"word\", explode(df_words[\"words\"])).drop(\"value\", \"words\")"
   ]
  },
  {
   "cell_type": "code",
   "execution_count": 6,
   "id": "a2f832f2-4b3c-4d51-9a7b-611b09aa1a61",
   "metadata": {},
   "outputs": [],
   "source": [
    "# Aggregate the words to generate count\n",
    "from pyspark.sql.functions import count, lit\n",
    "\n",
    "df_agg = df_explode.groupBy(\"word\").agg(count(lit(1)).alias(\"count\"))"
   ]
  },
  {
   "cell_type": "code",
   "execution_count": null,
   "id": "72752526-d38d-4e8c-b198-95884fa91662",
   "metadata": {},
   "outputs": [],
   "source": [
    "# Exec into container\n",
    "# Install netcat\n",
    "# Open port 9999 for connections with:\n",
    "# ncat -l 9999\n",
    "\n",
    "# Write the output to console streaming\n",
    "# This also launches a spark job which you can see via the Spark UI or http://localhost:4040/jobs/\n",
    "# If there are no spark jobs in the UI, the UI might be referencing the wrong kernel. Shut down ALL kernels and spin up a new one.\n",
    "\n",
    "df_agg.writeStream.format(\"console\").outputMode(\"complete\").start().awaitTermination()"
   ]
  }
 ],
 "metadata": {
  "kernelspec": {
   "display_name": "Python 3 (ipykernel)",
   "language": "python",
   "name": "python3"
  },
  "language_info": {
   "codemirror_mode": {
    "name": "ipython",
    "version": 3
   },
   "file_extension": ".py",
   "mimetype": "text/x-python",
   "name": "python",
   "nbconvert_exporter": "python",
   "pygments_lexer": "ipython3",
   "version": "3.13.7"
  }
 },
 "nbformat": 4,
 "nbformat_minor": 5
}
