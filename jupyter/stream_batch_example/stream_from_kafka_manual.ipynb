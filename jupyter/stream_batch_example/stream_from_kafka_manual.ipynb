{
 "cells": [
  {
   "cell_type": "code",
   "execution_count": null,
   "id": "428a1693-6c4d-423f-a176-13c4345c885c",
   "metadata": {},
   "outputs": [
    {
     "data": {
      "text/html": [
       "\n",
       "            <div>\n",
       "                <p><b>SparkSession - in-memory</b></p>\n",
       "                \n",
       "        <div>\n",
       "            <p><b>SparkContext</b></p>\n",
       "\n",
       "            <p><a href=\"http://500491415e8b:4040\">Spark UI</a></p>\n",
       "\n",
       "            <dl>\n",
       "              <dt>Version</dt>\n",
       "                <dd><code>v4.0.1</code></dd>\n",
       "              <dt>Master</dt>\n",
       "                <dd><code>local[*]</code></dd>\n",
       "              <dt>AppName</dt>\n",
       "                <dd><code>Streaming from Kafka</code></dd>\n",
       "            </dl>\n",
       "        </div>\n",
       "        \n",
       "            </div>\n",
       "        "
      ],
      "text/plain": [
       "<pyspark.sql.session.SparkSession at 0xffff538c70e0>"
      ]
     },
     "execution_count": 1,
     "metadata": {},
     "output_type": "execute_result"
    }
   ],
   "source": [
    "# Create the Spark Session\n",
    "from pyspark.sql import SparkSession\n",
    "\n",
    "spark = (\n",
    "    SparkSession \n",
    "    .builder \n",
    "    .appName(\"Streaming from Kafka\") \n",
    "    .config(\"spark.streaming.stopGracefullyOnShutdown\", True) \n",
    "    .config(\"spark.jars.packages\", \"org.apache.spark:spark-sql-kafka-0-10_2.13:4.0.1\")\n",
    "    .config(\"spark.sql.shuffle.partitions\", 4)\n",
    "    .master(\"local[*]\") \n",
    "    .getOrCreate()\n",
    ")\n",
    "\n",
    "spark"
   ]
  },
  {
   "cell_type": "code",
   "execution_count": 4,
   "id": "56ee70c4-9260-4bcf-82f1-acff3f39ce06",
   "metadata": {},
   "outputs": [],
   "source": [
    "# Create the kafka_df to read from kafka as a stream\n",
    "\n",
    "kafka_df = (\n",
    "    spark\n",
    "    .readStream\n",
    "    .format(\"kafka\")\n",
    "    .option(\"kafka.bootstrap.servers\", \"cf-kafka-1:29092\")\n",
    "    .option(\"subscribe\", \"device-data\")\n",
    "    .option(\"startingOffsets\", \"earliest\")\n",
    "    .load()\n",
    ")\n",
    "\n",
    "# Create the kafka_df to read from kafka in batch mode\n",
    "\n",
    "kafka_df = (\n",
    "    spark\n",
    "    .read\n",
    "    .format(\"kafka\")\n",
    "    .option(\"kafka.bootstrap.servers\", \"cf-kafka-1:29092\")\n",
    "    .option(\"subscribe\", \"device-data\")\n",
    "    .option(\"startingOffsets\", \"earliest\")\n",
    "    .load()\n",
    ")"
   ]
  },
  {
   "cell_type": "code",
   "execution_count": 5,
   "id": "974f1f9a-cc8c-405b-8824-0d9945d34383",
   "metadata": {},
   "outputs": [
    {
     "name": "stdout",
     "output_type": "stream",
     "text": [
      "root\n",
      " |-- key: binary (nullable = true)\n",
      " |-- value: binary (nullable = true)\n",
      " |-- topic: string (nullable = true)\n",
      " |-- partition: integer (nullable = true)\n",
      " |-- offset: long (nullable = true)\n",
      " |-- timestamp: timestamp (nullable = true)\n",
      " |-- timestampType: integer (nullable = true)\n",
      "\n",
      "+----+--------------------+-----------+---------+------+--------------------+-------------+\n",
      "| key|               value|      topic|partition|offset|           timestamp|timestampType|\n",
      "+----+--------------------+-----------+---------+------+--------------------+-------------+\n",
      "|NULL|[7B 22 65 76 65 6...|device-data|        0|     0|2025-09-12 15:12:...|            0|\n",
      "|NULL|[7B 22 65 76 65 6...|device-data|        0|     1|2025-09-12 15:16:...|            0|\n",
      "|NULL|       [74 65 73 74]|device-data|        0|     2|2025-09-12 15:37:...|            0|\n",
      "|NULL|[7B 22 65 76 65 6...|device-data|        0|     3|2025-09-12 15:41:...|            0|\n",
      "|NULL|[7B 22 65 76 65 6...|device-data|        0|     4|2025-09-12 15:56:...|            0|\n",
      "|NULL|[7B 22 65 76 65 6...|device-data|        0|     5|2025-09-12 16:17:...|            0|\n",
      "|NULL|[7B 22 65 76 65 6...|device-data|        0|     6|2025-09-12 16:18:...|            0|\n",
      "|NULL|[7B 22 65 76 65 6...|device-data|        0|     7|2025-09-12 16:18:...|            0|\n",
      "+----+--------------------+-----------+---------+------+--------------------+-------------+\n",
      "\n"
     ]
    }
   ],
   "source": [
    "# View schema for raw kafka_df\n",
    "kafka_df.printSchema()\n",
    "# kafka_df.show()"
   ]
  },
  {
   "cell_type": "code",
   "execution_count": 9,
   "id": "53bf3233-a702-4015-83e5-5fb827ab8c69",
   "metadata": {},
   "outputs": [
    {
     "name": "stdout",
     "output_type": "stream",
     "text": [
      "+----+--------------------+-----------+---------+------+--------------------+-------------+\n",
      "| key|               value|      topic|partition|offset|           timestamp|timestampType|\n",
      "+----+--------------------+-----------+---------+------+--------------------+-------------+\n",
      "|NULL|{\"eventId\": \"ba2e...|device-data|        0|     0|2025-09-12 15:12:...|            0|\n",
      "|NULL|{\"eventId\": \"e3cb...|device-data|        0|     1|2025-09-12 15:16:...|            0|\n",
      "|NULL|                test|device-data|        0|     2|2025-09-12 15:37:...|            0|\n",
      "|NULL|{\"eventId\": \"e3cb...|device-data|        0|     3|2025-09-12 15:41:...|            0|\n",
      "|NULL|{\"eventId\": \"e3cb...|device-data|        0|     4|2025-09-12 15:56:...|            0|\n",
      "|NULL|{\"eventId\": \"e3cb...|device-data|        0|     5|2025-09-12 16:17:...|            0|\n",
      "|NULL|{\"eventId\": \"e3cb...|device-data|        0|     6|2025-09-12 16:18:...|            0|\n",
      "|NULL|{\"eventId\": \"aa90...|device-data|        0|     7|2025-09-12 16:18:...|            0|\n",
      "+----+--------------------+-----------+---------+------+--------------------+-------------+\n",
      "\n"
     ]
    }
   ],
   "source": [
    "# Parse value from binay to string into kafka_json_df\n",
    "from pyspark.sql.functions import expr\n",
    "\n",
    "kafka_json_df = kafka_df.withColumn(\"value\", expr(\"cast(value as string)\"))\n",
    "# kafka_json_df.show()"
   ]
  },
  {
   "cell_type": "code",
   "execution_count": 7,
   "id": "974f46a8-7043-447f-97de-36232b32ab9f",
   "metadata": {},
   "outputs": [],
   "source": [
    "# Schema of the Payload\n",
    "\n",
    "from pyspark.sql.types import StringType, StructField, StructType, ArrayType, LongType\n",
    "\n",
    "json_schema = (\n",
    "    StructType(\n",
    "    [StructField('customerId', StringType(), True), \n",
    "    StructField('data', StructType(\n",
    "        [StructField('devices', \n",
    "                     ArrayType(StructType([ \n",
    "                        StructField('deviceId', StringType(), True), \n",
    "                        StructField('measure', StringType(), True), \n",
    "                        StructField('status', StringType(), True), \n",
    "                        StructField('temperature', LongType(), True)\n",
    "                    ]), True), True)\n",
    "        ]), True), \n",
    "    StructField('eventId', StringType(), True), \n",
    "    StructField('eventOffset', LongType(), True), \n",
    "    StructField('eventPublisher', StringType(), True), \n",
    "    StructField('eventTime', StringType(), True)\n",
    "    ])\n",
    ")"
   ]
  },
  {
   "cell_type": "code",
   "execution_count": 8,
   "id": "d0d45d43-4c87-4ad8-8546-e24334769b75",
   "metadata": {},
   "outputs": [
    {
     "name": "stdout",
     "output_type": "stream",
     "text": [
      "root\n",
      " |-- key: binary (nullable = true)\n",
      " |-- value: string (nullable = true)\n",
      " |-- topic: string (nullable = true)\n",
      " |-- partition: integer (nullable = true)\n",
      " |-- offset: long (nullable = true)\n",
      " |-- timestamp: timestamp (nullable = true)\n",
      " |-- timestampType: integer (nullable = true)\n",
      " |-- values_json: struct (nullable = true)\n",
      " |    |-- customerId: string (nullable = true)\n",
      " |    |-- data: struct (nullable = true)\n",
      " |    |    |-- devices: array (nullable = true)\n",
      " |    |    |    |-- element: struct (containsNull = true)\n",
      " |    |    |    |    |-- deviceId: string (nullable = true)\n",
      " |    |    |    |    |-- measure: string (nullable = true)\n",
      " |    |    |    |    |-- status: string (nullable = true)\n",
      " |    |    |    |    |-- temperature: long (nullable = true)\n",
      " |    |-- eventId: string (nullable = true)\n",
      " |    |-- eventOffset: long (nullable = true)\n",
      " |    |-- eventPublisher: string (nullable = true)\n",
      " |    |-- eventTime: string (nullable = true)\n",
      "\n",
      "+----+----------------------------------------------------------------------------------------------------------------------------------------------------------------------------------------------------------------------------------------------------------------------------------------------------------------------------------------------------------+-----------+---------+------+-----------------------+-------------+--------------------------------------------------------------------------------------------------------------------------------------------+\n",
      "|key |value                                                                                                                                                                                                                                                                                                                                                     |topic      |partition|offset|timestamp              |timestampType|values_json                                                                                                                                 |\n",
      "+----+----------------------------------------------------------------------------------------------------------------------------------------------------------------------------------------------------------------------------------------------------------------------------------------------------------------------------------------------------------+-----------+---------+------+-----------------------+-------------+--------------------------------------------------------------------------------------------------------------------------------------------+\n",
      "|NULL|{\"eventId\": \"ba2ea9f4-a5d9-434e-8e4d-1c80c2d4b456\", \"eventOffset\": 10000, \"eventPublisher\": \"device\", \"customerId\": \"CI00119\", \"data\": {\"devices\": []}, \"eventTime\": \"2023-01-05 11:13:53.643364\"}                                                                                                                                                        |device-data|0        |0     |2025-09-12 15:12:00.756|0            |{CI00119, {[]}, ba2ea9f4-a5d9-434e-8e4d-1c80c2d4b456, 10000, device, 2023-01-05 11:13:53.643364}                                            |\n",
      "|NULL|{\"eventId\": \"e3cb26d3-41b2-49a2-84f3-0156ed8d7502\", \"eventOffset\": 10001, \"eventPublisher\": \"device\", \"customerId\": \"CI00103\", \"data\": {\"devices\": [{\"deviceId\": \"D001\", \"temperature\": 15, \"measure\": \"C\", \"status\": \"ERROR\"}, {\"deviceId\": \"D002\", \"temperature\": 16, \"measure\": \"C\", \"status\": \"SUCCESS\"}]}, \"eventTime\": \"2023-01-05 11:13:53.643364\"}|device-data|0        |1     |2025-09-12 15:16:50.58 |0            |{CI00103, {[{D001, C, ERROR, 15}, {D002, C, SUCCESS, 16}]}, e3cb26d3-41b2-49a2-84f3-0156ed8d7502, 10001, device, 2023-01-05 11:13:53.643364}|\n",
      "|NULL|test                                                                                                                                                                                                                                                                                                                                                      |device-data|0        |2     |2025-09-12 15:37:00.316|0            |{NULL, NULL, NULL, NULL, NULL, NULL}                                                                                                        |\n",
      "|NULL|{\"eventId\": \"e3cb26d3-41b2-49a2-84f3-0156ed8d7502\", \"eventOffset\": 10001, \"eventPublisher\": \"device\", \"customerId\": \"CI00103\", \"data\": {\"devices\": [{\"deviceId\": \"D001\", \"temperature\": 15, \"measure\": \"C\", \"status\": \"ERROR\"}, {\"deviceId\": \"D002\", \"temperature\": 16, \"measure\": \"C\", \"status\": \"SUCCESS\"}]}, \"eventTime\": \"2023-01-05 11:13:53.643364\"}|device-data|0        |3     |2025-09-12 15:41:55.403|0            |{CI00103, {[{D001, C, ERROR, 15}, {D002, C, SUCCESS, 16}]}, e3cb26d3-41b2-49a2-84f3-0156ed8d7502, 10001, device, 2023-01-05 11:13:53.643364}|\n",
      "|NULL|{\"eventId\": \"e3cb26d3-41b2-49a2-84f3-0156ed8d7502\", \"eventOffset\": 10001, \"eventPublisher\": \"device\", \"customerId\": \"CI00103\", \"data\": {\"devices\": [{\"deviceId\": \"D001\", \"temperature\": 15, \"measure\": \"C\", \"status\": \"ERROR\"}, {\"deviceId\": \"D002\", \"temperature\": 16, \"measure\": \"C\", \"status\": \"SUCCESS\"}]}, \"eventTime\": \"2023-01-05 11:13:53.643364\"}|device-data|0        |4     |2025-09-12 15:56:20.43 |0            |{CI00103, {[{D001, C, ERROR, 15}, {D002, C, SUCCESS, 16}]}, e3cb26d3-41b2-49a2-84f3-0156ed8d7502, 10001, device, 2023-01-05 11:13:53.643364}|\n",
      "|NULL|{\"eventId\": \"e3cb26d3-41b2-49a2-84f3-0156ed8d7502\", \"eventOffset\": 10001, \"eventPublisher\": \"device\", \"customerId\": \"CI00103\", \"data\": {\"devices\": [{\"deviceId\": \"D001\", \"temperature\": 15, \"measure\": \"C\", \"status\": \"ERROR\"}, {\"deviceId\": \"D002\", \"temperature\": 16, \"measure\": \"C\", \"status\": \"SUCCESS\"}]}, \"eventTime\": \"2023-01-05 11:13:53.643364\"}|device-data|0        |5     |2025-09-12 16:17:48.33 |0            |{CI00103, {[{D001, C, ERROR, 15}, {D002, C, SUCCESS, 16}]}, e3cb26d3-41b2-49a2-84f3-0156ed8d7502, 10001, device, 2023-01-05 11:13:53.643364}|\n",
      "|NULL|{\"eventId\": \"e3cb26d3-41b2-49a2-84f3-0156ed8d7502\", \"eventOffset\": 10001, \"eventPublisher\": \"device\", \"customerId\": \"CI00103\", \"data\": {\"devices\": [{\"deviceId\": \"D001\", \"temperature\": 15, \"measure\": \"C\", \"status\": \"ERROR\"}, {\"deviceId\": \"D002\", \"temperature\": 16, \"measure\": \"C\", \"status\": \"SUCCESS\"}]}, \"eventTime\": \"2023-01-05 11:13:53.643364\"}|device-data|0        |6     |2025-09-12 16:18:02.337|0            |{CI00103, {[{D001, C, ERROR, 15}, {D002, C, SUCCESS, 16}]}, e3cb26d3-41b2-49a2-84f3-0156ed8d7502, 10001, device, 2023-01-05 11:13:53.643364}|\n",
      "|NULL|{\"eventId\": \"aa90011f-3967-496c-b94b-a0c8de19a3d3\", \"eventOffset\": 10003, \"eventPublisher\": \"device\", \"customerId\": \"CI00108\", \"data\": {\"devices\": [{\"deviceId\": \"D004\", \"temperature\": 16, \"measure\": \"C\", \"status\": \"SUCCESS\"}]}, \"eventTime\": \"2023-01-05 11:13:53.643364\"}                                                                            |device-data|0        |7     |2025-09-12 16:18:11.961|0            |{CI00108, {[{D004, C, SUCCESS, 16}]}, aa90011f-3967-496c-b94b-a0c8de19a3d3, 10003, device, 2023-01-05 11:13:53.643364}                      |\n",
      "+----+----------------------------------------------------------------------------------------------------------------------------------------------------------------------------------------------------------------------------------------------------------------------------------------------------------------------------------------------------------+-----------+---------+------+-----------------------+-------------+--------------------------------------------------------------------------------------------------------------------------------------------+\n",
      "\n"
     ]
    }
   ],
   "source": [
    "# Apply the schema to payload to read the data\n",
    "from pyspark.sql.functions import from_json,col\n",
    "\n",
    "# Flatten the value column into values_json column\n",
    "streaming_df = kafka_json_df.withColumn(\"values_json\", from_json(col(\"value\"), json_schema))\n",
    "streaming_df.printSchema()\n",
    "# streaming_df.show(truncate=False)"
   ]
  },
  {
   "cell_type": "code",
   "execution_count": 12,
   "id": "fedb7898-c6b2-4be2-b92c-882502387568",
   "metadata": {},
   "outputs": [
    {
     "name": "stdout",
     "output_type": "stream",
     "text": [
      "root\n",
      " |-- customerId: string (nullable = true)\n",
      " |-- data: struct (nullable = true)\n",
      " |    |-- devices: array (nullable = true)\n",
      " |    |    |-- element: struct (containsNull = true)\n",
      " |    |    |    |-- deviceId: string (nullable = true)\n",
      " |    |    |    |-- measure: string (nullable = true)\n",
      " |    |    |    |-- status: string (nullable = true)\n",
      " |    |    |    |-- temperature: long (nullable = true)\n",
      " |-- eventId: string (nullable = true)\n",
      " |-- eventOffset: long (nullable = true)\n",
      " |-- eventPublisher: string (nullable = true)\n",
      " |-- eventTime: string (nullable = true)\n",
      "\n",
      "+----------+------------------------------------------------+------------------------------------+-----------+--------------+--------------------------+\n",
      "|customerId|data                                            |eventId                             |eventOffset|eventPublisher|eventTime                 |\n",
      "+----------+------------------------------------------------+------------------------------------+-----------+--------------+--------------------------+\n",
      "|CI00119   |{[]}                                            |ba2ea9f4-a5d9-434e-8e4d-1c80c2d4b456|10000      |device        |2023-01-05 11:13:53.643364|\n",
      "|CI00103   |{[{D001, C, ERROR, 15}, {D002, C, SUCCESS, 16}]}|e3cb26d3-41b2-49a2-84f3-0156ed8d7502|10001      |device        |2023-01-05 11:13:53.643364|\n",
      "|NULL      |NULL                                            |NULL                                |NULL       |NULL          |NULL                      |\n",
      "|CI00103   |{[{D001, C, ERROR, 15}, {D002, C, SUCCESS, 16}]}|e3cb26d3-41b2-49a2-84f3-0156ed8d7502|10001      |device        |2023-01-05 11:13:53.643364|\n",
      "|CI00103   |{[{D001, C, ERROR, 15}, {D002, C, SUCCESS, 16}]}|e3cb26d3-41b2-49a2-84f3-0156ed8d7502|10001      |device        |2023-01-05 11:13:53.643364|\n",
      "|CI00103   |{[{D001, C, ERROR, 15}, {D002, C, SUCCESS, 16}]}|e3cb26d3-41b2-49a2-84f3-0156ed8d7502|10001      |device        |2023-01-05 11:13:53.643364|\n",
      "|CI00103   |{[{D001, C, ERROR, 15}, {D002, C, SUCCESS, 16}]}|e3cb26d3-41b2-49a2-84f3-0156ed8d7502|10001      |device        |2023-01-05 11:13:53.643364|\n",
      "|CI00108   |{[{D004, C, SUCCESS, 16}]}                      |aa90011f-3967-496c-b94b-a0c8de19a3d3|10003      |device        |2023-01-05 11:13:53.643364|\n",
      "+----------+------------------------------------------------+------------------------------------+-----------+--------------+--------------------------+\n",
      "\n"
     ]
    }
   ],
   "source": [
    "# Drops all columns except those in values_json using the selectExpr\n",
    "streaming_df = kafka_json_df.withColumn(\"values_json\", from_json(col(\"value\"), json_schema)).selectExpr(\"values_json.*\")\n",
    "# To the schema of the data, place a sample json file and change readStream to read \n",
    "streaming_df.printSchema()\n",
    "# streaming_df.show(truncate=False)"
   ]
  },
  {
   "cell_type": "code",
   "execution_count": 13,
   "id": "435ae57d-7ea9-4665-82bf-df895d4668ee",
   "metadata": {},
   "outputs": [
    {
     "name": "stdout",
     "output_type": "stream",
     "text": [
      "+----------+--------------------+--------------------+-----------+--------------+--------------------+--------------------+\n",
      "|customerId|                data|             eventId|eventOffset|eventPublisher|           eventTime|        data_devices|\n",
      "+----------+--------------------+--------------------+-----------+--------------+--------------------+--------------------+\n",
      "|   CI00103|{[{D001, C, ERROR...|e3cb26d3-41b2-49a...|      10001|        device|2023-01-05 11:13:...|{D001, C, ERROR, 15}|\n",
      "|   CI00103|{[{D001, C, ERROR...|e3cb26d3-41b2-49a...|      10001|        device|2023-01-05 11:13:...|{D002, C, SUCCESS...|\n",
      "|   CI00103|{[{D001, C, ERROR...|e3cb26d3-41b2-49a...|      10001|        device|2023-01-05 11:13:...|{D001, C, ERROR, 15}|\n",
      "|   CI00103|{[{D001, C, ERROR...|e3cb26d3-41b2-49a...|      10001|        device|2023-01-05 11:13:...|{D002, C, SUCCESS...|\n",
      "|   CI00103|{[{D001, C, ERROR...|e3cb26d3-41b2-49a...|      10001|        device|2023-01-05 11:13:...|{D001, C, ERROR, 15}|\n",
      "|   CI00103|{[{D001, C, ERROR...|e3cb26d3-41b2-49a...|      10001|        device|2023-01-05 11:13:...|{D002, C, SUCCESS...|\n",
      "|   CI00103|{[{D001, C, ERROR...|e3cb26d3-41b2-49a...|      10001|        device|2023-01-05 11:13:...|{D001, C, ERROR, 15}|\n",
      "|   CI00103|{[{D001, C, ERROR...|e3cb26d3-41b2-49a...|      10001|        device|2023-01-05 11:13:...|{D002, C, SUCCESS...|\n",
      "|   CI00103|{[{D001, C, ERROR...|e3cb26d3-41b2-49a...|      10001|        device|2023-01-05 11:13:...|{D001, C, ERROR, 15}|\n",
      "|   CI00103|{[{D001, C, ERROR...|e3cb26d3-41b2-49a...|      10001|        device|2023-01-05 11:13:...|{D002, C, SUCCESS...|\n",
      "|   CI00108|{[{D004, C, SUCCE...|aa90011f-3967-496...|      10003|        device|2023-01-05 11:13:...|{D004, C, SUCCESS...|\n",
      "+----------+--------------------+--------------------+-----------+--------------+--------------------+--------------------+\n",
      "\n"
     ]
    }
   ],
   "source": [
    "# Explode the data as devices contains list/array of device reading\n",
    "from pyspark.sql.functions import explode\n",
    "\n",
    "exploded_df = streaming_df.withColumn(\"data_devices\", explode(\"data.devices\"))\n",
    "# exploded_df.show()"
   ]
  },
  {
   "cell_type": "code",
   "execution_count": 29,
   "id": "f6b016b4-dddb-4d6b-acf3-7cb33dd73201",
   "metadata": {},
   "outputs": [
    {
     "name": "stdout",
     "output_type": "stream",
     "text": [
      "root\n",
      " |-- customerId: string (nullable = true)\n",
      " |-- data: struct (nullable = true)\n",
      " |    |-- devices: array (nullable = true)\n",
      " |    |    |-- element: struct (containsNull = true)\n",
      " |    |    |    |-- deviceId: string (nullable = true)\n",
      " |    |    |    |-- measure: string (nullable = true)\n",
      " |    |    |    |-- status: string (nullable = true)\n",
      " |    |    |    |-- temperature: long (nullable = true)\n",
      " |-- eventId: string (nullable = true)\n",
      " |-- eventOffset: long (nullable = true)\n",
      " |-- eventPublisher: string (nullable = true)\n",
      " |-- eventTime: string (nullable = true)\n",
      " |-- data_devices: struct (nullable = true)\n",
      " |    |-- deviceId: string (nullable = true)\n",
      " |    |-- measure: string (nullable = true)\n",
      " |    |-- status: string (nullable = true)\n",
      " |    |-- temperature: long (nullable = true)\n",
      "\n"
     ]
    }
   ],
   "source": [
    "# Check the schema of the exploded_df, place a sample json file and change readStream to read \n",
    "exploded_df.printSchema()\n",
    "#exploded_df.show(truncate=False)"
   ]
  },
  {
   "cell_type": "code",
   "execution_count": 30,
   "id": "a79df30b-e9e2-4c15-9443-e0d9f6eead20",
   "metadata": {},
   "outputs": [],
   "source": [
    "# Flatten the exploded df\n",
    "from pyspark.sql.functions import col\n",
    "\n",
    "flattened_df = (\n",
    "    exploded_df\n",
    "    .drop(\"data\")\n",
    "    .withColumn(\"deviceId\", col(\"data_devices.deviceId\"))\n",
    "    .withColumn(\"measure\", col(\"data_devices.measure\"))\n",
    "    .withColumn(\"status\", col(\"data_devices.status\"))\n",
    "    .withColumn(\"temperature\", col(\"data_devices.temperature\"))\n",
    "    .drop(\"data_devices\")\n",
    ")\n"
   ]
  },
  {
   "cell_type": "code",
   "execution_count": 31,
   "id": "dc56bba6-8be2-49b8-9604-b23537d1545c",
   "metadata": {},
   "outputs": [
    {
     "name": "stdout",
     "output_type": "stream",
     "text": [
      "root\n",
      " |-- customerId: string (nullable = true)\n",
      " |-- eventId: string (nullable = true)\n",
      " |-- eventOffset: long (nullable = true)\n",
      " |-- eventPublisher: string (nullable = true)\n",
      " |-- eventTime: string (nullable = true)\n",
      " |-- deviceId: string (nullable = true)\n",
      " |-- measure: string (nullable = true)\n",
      " |-- status: string (nullable = true)\n",
      " |-- temperature: long (nullable = true)\n",
      "\n"
     ]
    }
   ],
   "source": [
    "# Check the schema of the flattened_df, place a sample json file and change readStream to read \n",
    "flattened_df.printSchema()\n",
    "#flattened_df.show(truncate=False)"
   ]
  },
  {
   "cell_type": "code",
   "execution_count": null,
   "id": "be1a2511-13c6-4edf-972e-51b4c0a0f78e",
   "metadata": {},
   "outputs": [],
   "source": [
    "# Write the output to console sink to check the output\n",
    "\n",
    "(flattened_df\n",
    " .writeStream\n",
    " .format(\"console\")\n",
    " .outputMode(\"append\")\n",
    " .option(\"checkpointLocation\", \"checkpoint_dir_kafka\")\n",
    " .start()\n",
    " .awaitTermination())"
   ]
  },
  {
   "cell_type": "code",
   "execution_count": null,
   "id": "2d0e067f-4794-4ef4-a347-429772142ea6",
   "metadata": {},
   "outputs": [],
   "source": [
    "# Check the data at the output location\n",
    "\n"
   ]
  },
  {
   "cell_type": "code",
   "execution_count": null,
   "id": "9f96bf6d-140a-470f-93d8-139d1a5944dd",
   "metadata": {},
   "outputs": [],
   "source": []
  }
 ],
 "metadata": {
  "kernelspec": {
   "display_name": "Python 3 (ipykernel)",
   "language": "python",
   "name": "python3"
  },
  "language_info": {
   "codemirror_mode": {
    "name": "ipython",
    "version": 3
   },
   "file_extension": ".py",
   "mimetype": "text/x-python",
   "name": "python",
   "nbconvert_exporter": "python",
   "pygments_lexer": "ipython3",
   "version": "3.13.7"
  }
 },
 "nbformat": 4,
 "nbformat_minor": 5
}
